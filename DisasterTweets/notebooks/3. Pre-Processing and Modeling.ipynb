{
 "cells": [
  {
   "cell_type": "markdown",
   "id": "051fcf2d",
   "metadata": {},
   "source": [
    "# 3. Feature Engineering and Modeling"
   ]
  },
  {
   "cell_type": "code",
   "execution_count": 1,
   "id": "292ed528",
   "metadata": {},
   "outputs": [],
   "source": [
    "import pandas as pd\n",
    "import numpy as np\n",
    "import matplotlib.pyplot as plt\n",
    "import seaborn as sns\n",
    "from sklearn.model_selection import train_test_split, KFold, cross_val_score, GridSearchCV, learning_curve\n",
    "from sklearn.feature_extraction.text import CountVectorizer, TfidfVectorizer\n",
    "from sklearn.linear_model import LogisticRegression\n",
    "from sklearn.ensemble import RandomForestClassifier\n",
    "from sklearn.svm import SVC\n",
    "from sklearn.metrics import confusion_matrix, classification_report \n",
    "from sklearn.pipeline import Pipeline\n",
    "import nltk\n",
    "from nltk.corpus import reuters\n",
    "from nltk import bigrams, trigrams\n",
    "from collections import Counter, defaultdict"
   ]
  },
  {
   "cell_type": "code",
   "execution_count": 2,
   "id": "0ff5809c",
   "metadata": {},
   "outputs": [],
   "source": [
    "# Load Data\n",
    "cleaned = pd.read_csv('Cleaned.csv')[['text']].values.ravel()#This set was added in much later and is a little cleaner\n",
    "tweets = pd.read_csv('CleanedDisasterTweets.csv')[['Text']].values.ravel()\n",
    "target = pd.read_csv('TargetDisasterTweets.csv')[['target']].values.ravel()\n",
    "\n",
    "# Train and Test sets\n",
    "tweets_train, tweets_test, target_train, target_test = train_test_split(tweets, target, random_state = 0)\n",
    "cleaned_train, cleaned_test, target_train, target_test = train_test_split(cleaned, target, random_state = 0)"
   ]
  },
  {
   "cell_type": "markdown",
   "id": "c18eb281",
   "metadata": {},
   "source": [
    "# CountVectorizer unigram Train features"
   ]
  },
  {
   "cell_type": "code",
   "execution_count": 3,
   "id": "a7f4f0d9",
   "metadata": {},
   "outputs": [
    {
     "data": {
      "text/html": [
       "<div>\n",
       "<style scoped>\n",
       "    .dataframe tbody tr th:only-of-type {\n",
       "        vertical-align: middle;\n",
       "    }\n",
       "\n",
       "    .dataframe tbody tr th {\n",
       "        vertical-align: top;\n",
       "    }\n",
       "\n",
       "    .dataframe thead th {\n",
       "        text-align: right;\n",
       "    }\n",
       "</style>\n",
       "<table border=\"1\" class=\"dataframe\">\n",
       "  <thead>\n",
       "    <tr style=\"text-align: right;\">\n",
       "      <th></th>\n",
       "      <th>aa</th>\n",
       "      <th>aaaa</th>\n",
       "      <th>aaaaaaallll</th>\n",
       "      <th>aaarrrgghhh</th>\n",
       "      <th>aaemiddleaged</th>\n",
       "      <th>aampb</th>\n",
       "      <th>aampw</th>\n",
       "      <th>aashiqui</th>\n",
       "      <th>ab</th>\n",
       "      <th>aba</th>\n",
       "      <th>...</th>\n",
       "      <th>zonewolf</th>\n",
       "      <th>zoom</th>\n",
       "      <th>zotar</th>\n",
       "      <th>zouma</th>\n",
       "      <th>zourryart</th>\n",
       "      <th>zss</th>\n",
       "      <th>zumiez</th>\n",
       "      <th>zurich</th>\n",
       "      <th>zxathetis</th>\n",
       "      <th>zzzz</th>\n",
       "    </tr>\n",
       "  </thead>\n",
       "  <tbody>\n",
       "    <tr>\n",
       "      <th>0</th>\n",
       "      <td>0</td>\n",
       "      <td>0</td>\n",
       "      <td>0</td>\n",
       "      <td>0</td>\n",
       "      <td>0</td>\n",
       "      <td>0</td>\n",
       "      <td>0</td>\n",
       "      <td>0</td>\n",
       "      <td>0</td>\n",
       "      <td>0</td>\n",
       "      <td>...</td>\n",
       "      <td>0</td>\n",
       "      <td>0</td>\n",
       "      <td>0</td>\n",
       "      <td>0</td>\n",
       "      <td>0</td>\n",
       "      <td>0</td>\n",
       "      <td>0</td>\n",
       "      <td>0</td>\n",
       "      <td>0</td>\n",
       "      <td>0</td>\n",
       "    </tr>\n",
       "    <tr>\n",
       "      <th>1</th>\n",
       "      <td>0</td>\n",
       "      <td>0</td>\n",
       "      <td>0</td>\n",
       "      <td>0</td>\n",
       "      <td>0</td>\n",
       "      <td>0</td>\n",
       "      <td>0</td>\n",
       "      <td>0</td>\n",
       "      <td>0</td>\n",
       "      <td>0</td>\n",
       "      <td>...</td>\n",
       "      <td>0</td>\n",
       "      <td>0</td>\n",
       "      <td>0</td>\n",
       "      <td>0</td>\n",
       "      <td>0</td>\n",
       "      <td>0</td>\n",
       "      <td>0</td>\n",
       "      <td>0</td>\n",
       "      <td>0</td>\n",
       "      <td>0</td>\n",
       "    </tr>\n",
       "    <tr>\n",
       "      <th>2</th>\n",
       "      <td>0</td>\n",
       "      <td>0</td>\n",
       "      <td>0</td>\n",
       "      <td>0</td>\n",
       "      <td>0</td>\n",
       "      <td>0</td>\n",
       "      <td>0</td>\n",
       "      <td>0</td>\n",
       "      <td>0</td>\n",
       "      <td>0</td>\n",
       "      <td>...</td>\n",
       "      <td>0</td>\n",
       "      <td>0</td>\n",
       "      <td>0</td>\n",
       "      <td>0</td>\n",
       "      <td>0</td>\n",
       "      <td>0</td>\n",
       "      <td>0</td>\n",
       "      <td>0</td>\n",
       "      <td>0</td>\n",
       "      <td>0</td>\n",
       "    </tr>\n",
       "    <tr>\n",
       "      <th>3</th>\n",
       "      <td>0</td>\n",
       "      <td>0</td>\n",
       "      <td>0</td>\n",
       "      <td>0</td>\n",
       "      <td>0</td>\n",
       "      <td>0</td>\n",
       "      <td>0</td>\n",
       "      <td>0</td>\n",
       "      <td>0</td>\n",
       "      <td>0</td>\n",
       "      <td>...</td>\n",
       "      <td>0</td>\n",
       "      <td>0</td>\n",
       "      <td>0</td>\n",
       "      <td>0</td>\n",
       "      <td>0</td>\n",
       "      <td>0</td>\n",
       "      <td>0</td>\n",
       "      <td>0</td>\n",
       "      <td>0</td>\n",
       "      <td>0</td>\n",
       "    </tr>\n",
       "    <tr>\n",
       "      <th>4</th>\n",
       "      <td>0</td>\n",
       "      <td>0</td>\n",
       "      <td>0</td>\n",
       "      <td>0</td>\n",
       "      <td>0</td>\n",
       "      <td>0</td>\n",
       "      <td>0</td>\n",
       "      <td>0</td>\n",
       "      <td>0</td>\n",
       "      <td>0</td>\n",
       "      <td>...</td>\n",
       "      <td>0</td>\n",
       "      <td>0</td>\n",
       "      <td>0</td>\n",
       "      <td>0</td>\n",
       "      <td>0</td>\n",
       "      <td>0</td>\n",
       "      <td>0</td>\n",
       "      <td>0</td>\n",
       "      <td>0</td>\n",
       "      <td>0</td>\n",
       "    </tr>\n",
       "  </tbody>\n",
       "</table>\n",
       "<p>5 rows × 17778 columns</p>\n",
       "</div>"
      ],
      "text/plain": [
       "   aa  aaaa  aaaaaaallll  aaarrrgghhh  aaemiddleaged  aampb  aampw  aashiqui  \\\n",
       "0   0     0            0            0              0      0      0         0   \n",
       "1   0     0            0            0              0      0      0         0   \n",
       "2   0     0            0            0              0      0      0         0   \n",
       "3   0     0            0            0              0      0      0         0   \n",
       "4   0     0            0            0              0      0      0         0   \n",
       "\n",
       "   ab  aba  ...  zonewolf  zoom  zotar  zouma  zourryart  zss  zumiez  zurich  \\\n",
       "0   0    0  ...         0     0      0      0          0    0       0       0   \n",
       "1   0    0  ...         0     0      0      0          0    0       0       0   \n",
       "2   0    0  ...         0     0      0      0          0    0       0       0   \n",
       "3   0    0  ...         0     0      0      0          0    0       0       0   \n",
       "4   0    0  ...         0     0      0      0          0    0       0       0   \n",
       "\n",
       "   zxathetis  zzzz  \n",
       "0          0     0  \n",
       "1          0     0  \n",
       "2          0     0  \n",
       "3          0     0  \n",
       "4          0     0  \n",
       "\n",
       "[5 rows x 17778 columns]"
      ]
     },
     "execution_count": 3,
     "metadata": {},
     "output_type": "execute_result"
    }
   ],
   "source": [
    "cv_uni = CountVectorizer(analyzer='word', strip_accents = 'ascii', ngram_range = (1,1))\n",
    "cv_uni_train =cv_uni.fit_transform(tweets_train)\n",
    "df_cv_train = pd.DataFrame(cv_uni_train.toarray(), columns=cv_uni.get_feature_names())\n",
    "df_cv_train.head()"
   ]
  },
  {
   "cell_type": "markdown",
   "id": "12a3e3e1",
   "metadata": {},
   "source": [
    "# TfidfVectorizer unigram Train features"
   ]
  },
  {
   "cell_type": "code",
   "execution_count": 4,
   "id": "4a30d54f",
   "metadata": {},
   "outputs": [
    {
     "data": {
      "text/html": [
       "<div>\n",
       "<style scoped>\n",
       "    .dataframe tbody tr th:only-of-type {\n",
       "        vertical-align: middle;\n",
       "    }\n",
       "\n",
       "    .dataframe tbody tr th {\n",
       "        vertical-align: top;\n",
       "    }\n",
       "\n",
       "    .dataframe thead th {\n",
       "        text-align: right;\n",
       "    }\n",
       "</style>\n",
       "<table border=\"1\" class=\"dataframe\">\n",
       "  <thead>\n",
       "    <tr style=\"text-align: right;\">\n",
       "      <th></th>\n",
       "      <th>aa</th>\n",
       "      <th>aaaa</th>\n",
       "      <th>aaaaaaallll</th>\n",
       "      <th>aaarrrgghhh</th>\n",
       "      <th>aaemiddleaged</th>\n",
       "      <th>aampb</th>\n",
       "      <th>aampw</th>\n",
       "      <th>aashiqui</th>\n",
       "      <th>ab</th>\n",
       "      <th>aba</th>\n",
       "      <th>...</th>\n",
       "      <th>zonewolf</th>\n",
       "      <th>zoom</th>\n",
       "      <th>zotar</th>\n",
       "      <th>zouma</th>\n",
       "      <th>zourryart</th>\n",
       "      <th>zss</th>\n",
       "      <th>zumiez</th>\n",
       "      <th>zurich</th>\n",
       "      <th>zxathetis</th>\n",
       "      <th>zzzz</th>\n",
       "    </tr>\n",
       "  </thead>\n",
       "  <tbody>\n",
       "    <tr>\n",
       "      <th>0</th>\n",
       "      <td>0.0</td>\n",
       "      <td>0.0</td>\n",
       "      <td>0.0</td>\n",
       "      <td>0.0</td>\n",
       "      <td>0.0</td>\n",
       "      <td>0.0</td>\n",
       "      <td>0.0</td>\n",
       "      <td>0.0</td>\n",
       "      <td>0.0</td>\n",
       "      <td>0.0</td>\n",
       "      <td>...</td>\n",
       "      <td>0.0</td>\n",
       "      <td>0.0</td>\n",
       "      <td>0.0</td>\n",
       "      <td>0.0</td>\n",
       "      <td>0.0</td>\n",
       "      <td>0.0</td>\n",
       "      <td>0.0</td>\n",
       "      <td>0.0</td>\n",
       "      <td>0.0</td>\n",
       "      <td>0.0</td>\n",
       "    </tr>\n",
       "    <tr>\n",
       "      <th>1</th>\n",
       "      <td>0.0</td>\n",
       "      <td>0.0</td>\n",
       "      <td>0.0</td>\n",
       "      <td>0.0</td>\n",
       "      <td>0.0</td>\n",
       "      <td>0.0</td>\n",
       "      <td>0.0</td>\n",
       "      <td>0.0</td>\n",
       "      <td>0.0</td>\n",
       "      <td>0.0</td>\n",
       "      <td>...</td>\n",
       "      <td>0.0</td>\n",
       "      <td>0.0</td>\n",
       "      <td>0.0</td>\n",
       "      <td>0.0</td>\n",
       "      <td>0.0</td>\n",
       "      <td>0.0</td>\n",
       "      <td>0.0</td>\n",
       "      <td>0.0</td>\n",
       "      <td>0.0</td>\n",
       "      <td>0.0</td>\n",
       "    </tr>\n",
       "    <tr>\n",
       "      <th>2</th>\n",
       "      <td>0.0</td>\n",
       "      <td>0.0</td>\n",
       "      <td>0.0</td>\n",
       "      <td>0.0</td>\n",
       "      <td>0.0</td>\n",
       "      <td>0.0</td>\n",
       "      <td>0.0</td>\n",
       "      <td>0.0</td>\n",
       "      <td>0.0</td>\n",
       "      <td>0.0</td>\n",
       "      <td>...</td>\n",
       "      <td>0.0</td>\n",
       "      <td>0.0</td>\n",
       "      <td>0.0</td>\n",
       "      <td>0.0</td>\n",
       "      <td>0.0</td>\n",
       "      <td>0.0</td>\n",
       "      <td>0.0</td>\n",
       "      <td>0.0</td>\n",
       "      <td>0.0</td>\n",
       "      <td>0.0</td>\n",
       "    </tr>\n",
       "    <tr>\n",
       "      <th>3</th>\n",
       "      <td>0.0</td>\n",
       "      <td>0.0</td>\n",
       "      <td>0.0</td>\n",
       "      <td>0.0</td>\n",
       "      <td>0.0</td>\n",
       "      <td>0.0</td>\n",
       "      <td>0.0</td>\n",
       "      <td>0.0</td>\n",
       "      <td>0.0</td>\n",
       "      <td>0.0</td>\n",
       "      <td>...</td>\n",
       "      <td>0.0</td>\n",
       "      <td>0.0</td>\n",
       "      <td>0.0</td>\n",
       "      <td>0.0</td>\n",
       "      <td>0.0</td>\n",
       "      <td>0.0</td>\n",
       "      <td>0.0</td>\n",
       "      <td>0.0</td>\n",
       "      <td>0.0</td>\n",
       "      <td>0.0</td>\n",
       "    </tr>\n",
       "    <tr>\n",
       "      <th>4</th>\n",
       "      <td>0.0</td>\n",
       "      <td>0.0</td>\n",
       "      <td>0.0</td>\n",
       "      <td>0.0</td>\n",
       "      <td>0.0</td>\n",
       "      <td>0.0</td>\n",
       "      <td>0.0</td>\n",
       "      <td>0.0</td>\n",
       "      <td>0.0</td>\n",
       "      <td>0.0</td>\n",
       "      <td>...</td>\n",
       "      <td>0.0</td>\n",
       "      <td>0.0</td>\n",
       "      <td>0.0</td>\n",
       "      <td>0.0</td>\n",
       "      <td>0.0</td>\n",
       "      <td>0.0</td>\n",
       "      <td>0.0</td>\n",
       "      <td>0.0</td>\n",
       "      <td>0.0</td>\n",
       "      <td>0.0</td>\n",
       "    </tr>\n",
       "  </tbody>\n",
       "</table>\n",
       "<p>5 rows × 17778 columns</p>\n",
       "</div>"
      ],
      "text/plain": [
       "    aa  aaaa  aaaaaaallll  aaarrrgghhh  aaemiddleaged  aampb  aampw  aashiqui  \\\n",
       "0  0.0   0.0          0.0          0.0            0.0    0.0    0.0       0.0   \n",
       "1  0.0   0.0          0.0          0.0            0.0    0.0    0.0       0.0   \n",
       "2  0.0   0.0          0.0          0.0            0.0    0.0    0.0       0.0   \n",
       "3  0.0   0.0          0.0          0.0            0.0    0.0    0.0       0.0   \n",
       "4  0.0   0.0          0.0          0.0            0.0    0.0    0.0       0.0   \n",
       "\n",
       "    ab  aba  ...  zonewolf  zoom  zotar  zouma  zourryart  zss  zumiez  \\\n",
       "0  0.0  0.0  ...       0.0   0.0    0.0    0.0        0.0  0.0     0.0   \n",
       "1  0.0  0.0  ...       0.0   0.0    0.0    0.0        0.0  0.0     0.0   \n",
       "2  0.0  0.0  ...       0.0   0.0    0.0    0.0        0.0  0.0     0.0   \n",
       "3  0.0  0.0  ...       0.0   0.0    0.0    0.0        0.0  0.0     0.0   \n",
       "4  0.0  0.0  ...       0.0   0.0    0.0    0.0        0.0  0.0     0.0   \n",
       "\n",
       "   zurich  zxathetis  zzzz  \n",
       "0     0.0        0.0   0.0  \n",
       "1     0.0        0.0   0.0  \n",
       "2     0.0        0.0   0.0  \n",
       "3     0.0        0.0   0.0  \n",
       "4     0.0        0.0   0.0  \n",
       "\n",
       "[5 rows x 17778 columns]"
      ]
     },
     "execution_count": 4,
     "metadata": {},
     "output_type": "execute_result"
    }
   ],
   "source": [
    "tfid_uni = TfidfVectorizer(sublinear_tf=True, strip_accents = 'ascii', ngram_range = (1,1))\n",
    "tfid_uni_train = tfid_uni.fit_transform(tweets_train)\n",
    "df_tfid_train = pd.DataFrame.sparse.from_spmatrix(tfid_uni_train, columns = tfid_uni.get_feature_names())\n",
    "df_tfid_train.head()"
   ]
  },
  {
   "cell_type": "markdown",
   "id": "409572b7",
   "metadata": {},
   "source": [
    "# Unigram Test features"
   ]
  },
  {
   "cell_type": "code",
   "execution_count": 5,
   "id": "f74a6127",
   "metadata": {},
   "outputs": [],
   "source": [
    "cv_uni_test = cv_uni.transform(tweets_test)\n",
    "tfid_uni_test = tfid_uni.transform(tweets_test)"
   ]
  },
  {
   "cell_type": "code",
   "execution_count": 6,
   "id": "f4761428",
   "metadata": {},
   "outputs": [
    {
     "name": "stdout",
     "output_type": "stream",
     "text": [
      "CountVectorizer Train features shape: (5627, 17778) | TfidVectorizer Train features shape: (5627, 17778) \n",
      "CountVectorizer Test features shape:  (1876, 17778) | TfidVectorizer Test features shape:  (1876, 17778)\n"
     ]
    }
   ],
   "source": [
    "print('CountVectorizer Train features shape:', cv_uni_train.shape, '| TfidVectorizer Train features shape:', tfid_uni_train.shape, \n",
    "      '\\nCountVectorizer Test features shape: ', cv_uni_test.shape, '| TfidVectorizer Test features shape: ', tfid_uni_test.shape)"
   ]
  },
  {
   "cell_type": "markdown",
   "id": "8c162663",
   "metadata": {},
   "source": [
    "# Bigram features"
   ]
  },
  {
   "cell_type": "code",
   "execution_count": 7,
   "id": "18d17209",
   "metadata": {},
   "outputs": [
    {
     "name": "stdout",
     "output_type": "stream",
     "text": [
      "CountVectorizer Train features shape: (5627, 42035) | TfidVectorizer Train features shape: (5627, 42035) \n",
      "CountVectorizer Test features shape:  (1876, 42035) | TfidVectorizer Test features shape:  (1876, 42035)\n"
     ]
    }
   ],
   "source": [
    "# CountVectorizer bigram features\n",
    "cv_bi =CountVectorizer(analyzer='word', strip_accents = 'ascii', ngram_range = (2,2))\n",
    "cv_bi_train =cv_bi.fit_transform(tweets_train)\n",
    "cv_bi_test = cv_bi.transform(tweets_test)\n",
    "\n",
    "# TfidfVectorizer bigram features\n",
    "tfid_bi = TfidfVectorizer(sublinear_tf=True, strip_accents = 'ascii', ngram_range = (2,2))\n",
    "tfid_bi_train = tfid_bi.fit_transform(tweets_train)\n",
    "tfid_bi_test = tfid_bi.transform(tweets_test)\n",
    "\n",
    "print('CountVectorizer Train features shape:', cv_bi_train.shape, '| TfidVectorizer Train features shape:', tfid_bi_train.shape, \n",
    "      '\\nCountVectorizer Test features shape: ', cv_bi_test.shape, '| TfidVectorizer Test features shape: ', tfid_bi_test.shape)"
   ]
  },
  {
   "cell_type": "markdown",
   "id": "b92781fb",
   "metadata": {},
   "source": [
    "# Unigram and Bigram features"
   ]
  },
  {
   "cell_type": "code",
   "execution_count": 8,
   "id": "46669fde",
   "metadata": {},
   "outputs": [
    {
     "name": "stdout",
     "output_type": "stream",
     "text": [
      "CountVectorizer Train features shape: (5627, 59813) | TfidVectorizer Train features shape: (5627, 59813) \n",
      "CountVectorizer Test features shape:  (1876, 59813) | TfidVectorizer Test features shape:  (1876, 59813)\n"
     ]
    }
   ],
   "source": [
    "# CountVectorizer Uni and Bi features\n",
    "cv_uni_bi = CountVectorizer(analyzer='word', strip_accents = 'ascii', ngram_range = (1,2))\n",
    "cv_uni_bi_train = cv_uni_bi.fit_transform(tweets_train)\n",
    "cv_uni_bi_test = cv_uni_bi.transform(tweets_test)\n",
    "\n",
    "# TfidVectorizer Uni and Bi features\n",
    "tfid_uni_bi = TfidfVectorizer(sublinear_tf=True, strip_accents = 'ascii', ngram_range = (1,2))\n",
    "tfid_uni_bi_train = tfid_uni_bi.fit_transform(tweets_train)\n",
    "tfid_uni_bi_test = tfid_uni_bi.transform(tweets_test)\n",
    "\n",
    "print('CountVectorizer Train features shape:', cv_uni_bi_train.shape, '| TfidVectorizer Train features shape:', tfid_uni_bi_train.shape, \n",
    "      '\\nCountVectorizer Test features shape: ', cv_uni_bi_test.shape, '| TfidVectorizer Test features shape: ', tfid_uni_bi_test.shape)"
   ]
  },
  {
   "cell_type": "markdown",
   "id": "bf0e62d5",
   "metadata": {},
   "source": [
    "# Full GridSearchCV "
   ]
  },
  {
   "cell_type": "code",
   "execution_count": 9,
   "id": "1b97f074",
   "metadata": {},
   "outputs": [],
   "source": [
    "# steps = [('cv', CountVectorizer()), \n",
    "#          ('log', LogisticRegression(random_state = 0))]\n",
    "\n",
    "# pipe = Pipeline(steps)\n",
    "\n",
    "# params = {'cv__strip_accents':['ascii', 'unicode'],\n",
    "#           'cv__ngram_range':[(1,1), (1,2)],\n",
    "#           'log__solver':['newton-cg', 'lbfgs', 'liblinear', 'sag', 'saga'],\n",
    "#           'log__C':np.logspace(-2, 2, 50)}\n",
    "\n",
    "# gs = GridSearchCV(pipe, params, cv=5).fit(tweets_train, target_train)\n",
    "# gs.best_params_\n",
    "# best_logreg_c = gs.best_params_['log__C']\n",
    "# best_logreg_score = gs.best_score_\n",
    "\n",
    "# print('Best C param:', best_logreg_c, '\\nBest score:', best_logreg_score)\n",
    "\n",
    "# output for best_params_: 'ascii', (1,1), 'saga', 0.20235896477251566, "
   ]
  },
  {
   "cell_type": "markdown",
   "id": "9670ce0d",
   "metadata": {},
   "source": [
    "# LogisticRegression with CountVectorizer features "
   ]
  },
  {
   "cell_type": "code",
   "execution_count": 10,
   "id": "3939e469",
   "metadata": {
    "scrolled": true
   },
   "outputs": [
    {
     "name": "stdout",
     "output_type": "stream",
     "text": [
      "                precision    recall  f1-score   support\n",
      "\n",
      "    Safe Tweet    0.78834   0.90385   0.84215      1092\n",
      "Disaster Tweet    0.83173   0.66199   0.73722       784\n",
      "\n",
      "      accuracy                        0.80277      1876\n",
      "     macro avg    0.81003   0.78292   0.78968      1876\n",
      "  weighted avg    0.80647   0.80277   0.79830      1876\n",
      "\n"
     ]
    },
    {
     "data": {
      "text/html": [
       "<div>\n",
       "<style scoped>\n",
       "    .dataframe tbody tr th:only-of-type {\n",
       "        vertical-align: middle;\n",
       "    }\n",
       "\n",
       "    .dataframe tbody tr th {\n",
       "        vertical-align: top;\n",
       "    }\n",
       "\n",
       "    .dataframe thead th {\n",
       "        text-align: right;\n",
       "    }\n",
       "</style>\n",
       "<table border=\"1\" class=\"dataframe\">\n",
       "  <thead>\n",
       "    <tr style=\"text-align: right;\">\n",
       "      <th></th>\n",
       "      <th>Safe Tweet</th>\n",
       "      <th>Disaster Tweet</th>\n",
       "    </tr>\n",
       "  </thead>\n",
       "  <tbody>\n",
       "    <tr>\n",
       "      <th>Safe Tweet</th>\n",
       "      <td>987</td>\n",
       "      <td>105</td>\n",
       "    </tr>\n",
       "    <tr>\n",
       "      <th>Disaster Tweet</th>\n",
       "      <td>265</td>\n",
       "      <td>519</td>\n",
       "    </tr>\n",
       "  </tbody>\n",
       "</table>\n",
       "</div>"
      ],
      "text/plain": [
       "                Safe Tweet  Disaster Tweet\n",
       "Safe Tweet             987             105\n",
       "Disaster Tweet         265             519"
      ]
     },
     "execution_count": 10,
     "metadata": {},
     "output_type": "execute_result"
    }
   ],
   "source": [
    "# Uni features, liblinear\n",
    "max_c = 0.20235896477251566\n",
    "log = LogisticRegression(solver = 'liblinear', C = max_c, random_state = 0)\n",
    "log.fit(cv_uni_train, target_train)\n",
    "log_cv_uni_prediction = log.predict(cv_uni_test)\n",
    "labels = ['Safe Tweet', 'Disaster Tweet']\n",
    "print(classification_report(target_test, log_cv_uni_prediction, target_names = labels, digits = 5))\n",
    "log_cv_uni_lib = classification_report(target_test, log_cv_uni_prediction, target_names = labels, output_dict = True)\n",
    "pd.DataFrame(confusion_matrix(target_test, log_cv_uni_prediction), index=labels, columns=labels)"
   ]
  },
  {
   "cell_type": "code",
   "execution_count": 11,
   "id": "92a80dc4",
   "metadata": {
    "scrolled": true
   },
   "outputs": [
    {
     "name": "stdout",
     "output_type": "stream",
     "text": [
      "                precision    recall  f1-score   support\n",
      "\n",
      "    Safe Tweet    0.78926   0.90201   0.84188      1092\n",
      "Disaster Tweet    0.82962   0.66454   0.73796       784\n",
      "\n",
      "      accuracy                        0.80277      1876\n",
      "     macro avg    0.80944   0.78328   0.78992      1876\n",
      "  weighted avg    0.80613   0.80277   0.79845      1876\n",
      "\n"
     ]
    },
    {
     "data": {
      "text/html": [
       "<div>\n",
       "<style scoped>\n",
       "    .dataframe tbody tr th:only-of-type {\n",
       "        vertical-align: middle;\n",
       "    }\n",
       "\n",
       "    .dataframe tbody tr th {\n",
       "        vertical-align: top;\n",
       "    }\n",
       "\n",
       "    .dataframe thead th {\n",
       "        text-align: right;\n",
       "    }\n",
       "</style>\n",
       "<table border=\"1\" class=\"dataframe\">\n",
       "  <thead>\n",
       "    <tr style=\"text-align: right;\">\n",
       "      <th></th>\n",
       "      <th>Safe Tweet</th>\n",
       "      <th>Disaster Tweet</th>\n",
       "    </tr>\n",
       "  </thead>\n",
       "  <tbody>\n",
       "    <tr>\n",
       "      <th>Safe Tweet</th>\n",
       "      <td>985</td>\n",
       "      <td>107</td>\n",
       "    </tr>\n",
       "    <tr>\n",
       "      <th>Disaster Tweet</th>\n",
       "      <td>263</td>\n",
       "      <td>521</td>\n",
       "    </tr>\n",
       "  </tbody>\n",
       "</table>\n",
       "</div>"
      ],
      "text/plain": [
       "                Safe Tweet  Disaster Tweet\n",
       "Safe Tweet             985             107\n",
       "Disaster Tweet         263             521"
      ]
     },
     "execution_count": 11,
     "metadata": {},
     "output_type": "execute_result"
    }
   ],
   "source": [
    "# Uni features, saga\n",
    "log_saga = LogisticRegression(solver = 'saga', C = max_c, random_state = 0)\n",
    "log_saga.fit(cv_uni_train, target_train)\n",
    "log_cv_uni_saga_prediction = log_saga.predict(cv_uni_test)\n",
    "labels = ['Safe Tweet', 'Disaster Tweet']\n",
    "print(classification_report(target_test, log_cv_uni_saga_prediction, target_names = labels, digits = 5))\n",
    "log_cv_uni_saga = classification_report(target_test, log_cv_uni_saga_prediction, target_names = labels, output_dict = True)\n",
    "pd.DataFrame(confusion_matrix(target_test, log_cv_uni_saga_prediction), index=labels, columns=labels)"
   ]
  },
  {
   "cell_type": "code",
   "execution_count": 12,
   "id": "1e74040b",
   "metadata": {
    "scrolled": true
   },
   "outputs": [
    {
     "name": "stdout",
     "output_type": "stream",
     "text": [
      "                precision    recall  f1-score   support\n",
      "\n",
      "    Safe Tweet    0.78834   0.90385   0.84215      1092\n",
      "Disaster Tweet    0.83173   0.66199   0.73722       784\n",
      "\n",
      "      accuracy                        0.80277      1876\n",
      "     macro avg    0.81003   0.78292   0.78968      1876\n",
      "  weighted avg    0.80647   0.80277   0.79830      1876\n",
      "\n"
     ]
    },
    {
     "data": {
      "text/html": [
       "<div>\n",
       "<style scoped>\n",
       "    .dataframe tbody tr th:only-of-type {\n",
       "        vertical-align: middle;\n",
       "    }\n",
       "\n",
       "    .dataframe tbody tr th {\n",
       "        vertical-align: top;\n",
       "    }\n",
       "\n",
       "    .dataframe thead th {\n",
       "        text-align: right;\n",
       "    }\n",
       "</style>\n",
       "<table border=\"1\" class=\"dataframe\">\n",
       "  <thead>\n",
       "    <tr style=\"text-align: right;\">\n",
       "      <th></th>\n",
       "      <th>Safe Tweet</th>\n",
       "      <th>Disaster Tweet</th>\n",
       "    </tr>\n",
       "  </thead>\n",
       "  <tbody>\n",
       "    <tr>\n",
       "      <th>Safe Tweet</th>\n",
       "      <td>987</td>\n",
       "      <td>105</td>\n",
       "    </tr>\n",
       "    <tr>\n",
       "      <th>Disaster Tweet</th>\n",
       "      <td>265</td>\n",
       "      <td>519</td>\n",
       "    </tr>\n",
       "  </tbody>\n",
       "</table>\n",
       "</div>"
      ],
      "text/plain": [
       "                Safe Tweet  Disaster Tweet\n",
       "Safe Tweet             987             105\n",
       "Disaster Tweet         265             519"
      ]
     },
     "execution_count": 12,
     "metadata": {},
     "output_type": "execute_result"
    }
   ],
   "source": [
    "# uni, lbfgs, \n",
    "log_lbfgs = LogisticRegression(solver = 'lbfgs', C = max_c, random_state = 0)\n",
    "log_lbfgs.fit(cv_uni_train, target_train)\n",
    "log_cv_uni_lbfgs_prediction = log_lbfgs.predict(cv_uni_test)\n",
    "labels = ['Safe Tweet', 'Disaster Tweet']\n",
    "print(classification_report(target_test, log_cv_uni_lbfgs_prediction, target_names = labels, digits = 5))\n",
    "log_cv_uni_lbfgs = classification_report(target_test, log_cv_uni_lbfgs_prediction, target_names = labels, output_dict = True)\n",
    "pd.DataFrame(confusion_matrix(target_test, log_cv_uni_lbfgs_prediction), index=labels, columns=labels)"
   ]
  },
  {
   "cell_type": "markdown",
   "id": "c6d79e5f",
   "metadata": {},
   "source": [
    "LogisticRegression solver seems to has very little effect on the scores. We will continue with `saga` as it produces the highest F1 for Disaster Tweets. "
   ]
  },
  {
   "cell_type": "code",
   "execution_count": 13,
   "id": "ebbb9b2e",
   "metadata": {
    "scrolled": true
   },
   "outputs": [
    {
     "name": "stdout",
     "output_type": "stream",
     "text": [
      "                precision    recall  f1-score   support\n",
      "\n",
      "    Safe Tweet    0.77977   0.91758   0.84308      1092\n",
      "Disaster Tweet    0.84772   0.63903   0.72873       784\n",
      "\n",
      "      accuracy                        0.80117      1876\n",
      "     macro avg    0.81374   0.77831   0.78590      1876\n",
      "  weighted avg    0.80816   0.80117   0.79529      1876\n",
      "\n"
     ]
    },
    {
     "name": "stderr",
     "output_type": "stream",
     "text": [
      "C:\\Users\\trent\\anaconda3\\lib\\site-packages\\sklearn\\linear_model\\_sag.py:328: ConvergenceWarning: The max_iter was reached which means the coef_ did not converge\n",
      "  warnings.warn(\"The max_iter was reached which means \"\n"
     ]
    },
    {
     "data": {
      "text/html": [
       "<div>\n",
       "<style scoped>\n",
       "    .dataframe tbody tr th:only-of-type {\n",
       "        vertical-align: middle;\n",
       "    }\n",
       "\n",
       "    .dataframe tbody tr th {\n",
       "        vertical-align: top;\n",
       "    }\n",
       "\n",
       "    .dataframe thead th {\n",
       "        text-align: right;\n",
       "    }\n",
       "</style>\n",
       "<table border=\"1\" class=\"dataframe\">\n",
       "  <thead>\n",
       "    <tr style=\"text-align: right;\">\n",
       "      <th></th>\n",
       "      <th>Safe Tweet</th>\n",
       "      <th>Disaster Tweet</th>\n",
       "    </tr>\n",
       "  </thead>\n",
       "  <tbody>\n",
       "    <tr>\n",
       "      <th>Safe Tweet</th>\n",
       "      <td>1002</td>\n",
       "      <td>90</td>\n",
       "    </tr>\n",
       "    <tr>\n",
       "      <th>Disaster Tweet</th>\n",
       "      <td>283</td>\n",
       "      <td>501</td>\n",
       "    </tr>\n",
       "  </tbody>\n",
       "</table>\n",
       "</div>"
      ],
      "text/plain": [
       "                Safe Tweet  Disaster Tweet\n",
       "Safe Tweet            1002              90\n",
       "Disaster Tweet         283             501"
      ]
     },
     "execution_count": 13,
     "metadata": {},
     "output_type": "execute_result"
    }
   ],
   "source": [
    "# Uni and Bi features\n",
    "log = LogisticRegression(solver = 'saga', C = max_c, random_state = 0).fit(cv_uni_bi_train, target_train)\n",
    "log_cv_uni_bi_prediction = log.predict(cv_uni_bi_test)\n",
    "labels = ['Safe Tweet', 'Disaster Tweet']\n",
    "print(classification_report(target_test, log_cv_uni_bi_prediction, target_names = labels, digits = 5))\n",
    "log_cv_uni_bi = classification_report(target_test, log_cv_uni_bi_prediction, target_names = labels, output_dict = True)\n",
    "pd.DataFrame(confusion_matrix(target_test, log_cv_uni_bi_prediction), index=labels, columns=labels)"
   ]
  },
  {
   "cell_type": "code",
   "execution_count": 14,
   "id": "45be323c",
   "metadata": {
    "scrolled": true
   },
   "outputs": [
    {
     "name": "stdout",
     "output_type": "stream",
     "text": [
      "                precision    recall  f1-score   support\n",
      "\n",
      "    Safe Tweet    0.68115   0.97619   0.80241      1092\n",
      "Disaster Tweet    0.91640   0.36352   0.52055       784\n",
      "\n",
      "      accuracy                        0.72015      1876\n",
      "     macro avg    0.79877   0.66986   0.66148      1876\n",
      "  weighted avg    0.77946   0.72015   0.68462      1876\n",
      "\n"
     ]
    },
    {
     "data": {
      "text/html": [
       "<div>\n",
       "<style scoped>\n",
       "    .dataframe tbody tr th:only-of-type {\n",
       "        vertical-align: middle;\n",
       "    }\n",
       "\n",
       "    .dataframe tbody tr th {\n",
       "        vertical-align: top;\n",
       "    }\n",
       "\n",
       "    .dataframe thead th {\n",
       "        text-align: right;\n",
       "    }\n",
       "</style>\n",
       "<table border=\"1\" class=\"dataframe\">\n",
       "  <thead>\n",
       "    <tr style=\"text-align: right;\">\n",
       "      <th></th>\n",
       "      <th>Safe Tweet</th>\n",
       "      <th>Disaster Tweet</th>\n",
       "    </tr>\n",
       "  </thead>\n",
       "  <tbody>\n",
       "    <tr>\n",
       "      <th>Safe Tweet</th>\n",
       "      <td>1066</td>\n",
       "      <td>26</td>\n",
       "    </tr>\n",
       "    <tr>\n",
       "      <th>Disaster Tweet</th>\n",
       "      <td>499</td>\n",
       "      <td>285</td>\n",
       "    </tr>\n",
       "  </tbody>\n",
       "</table>\n",
       "</div>"
      ],
      "text/plain": [
       "                Safe Tweet  Disaster Tweet\n",
       "Safe Tweet            1066              26\n",
       "Disaster Tweet         499             285"
      ]
     },
     "execution_count": 14,
     "metadata": {},
     "output_type": "execute_result"
    }
   ],
   "source": [
    "# Bi features\n",
    "log = LogisticRegression(solver = 'saga', C = max_c, random_state = 0)\n",
    "log.fit(cv_bi_train, target_train)\n",
    "log_cv_bi_prediction = log.predict(cv_bi_test)\n",
    "labels = ['Safe Tweet', 'Disaster Tweet']\n",
    "print(classification_report(target_test, log_cv_bi_prediction, target_names = labels, digits = 5))\n",
    "log_cv_bi = classification_report(target_test, log_cv_bi_prediction, target_names = labels, output_dict = True)\n",
    "pd.DataFrame(confusion_matrix(target_test, log_cv_bi_prediction), index=labels, columns=labels)"
   ]
  },
  {
   "cell_type": "markdown",
   "id": "8f3df95c",
   "metadata": {},
   "source": [
    "Only vectorizing bigrams clearly results inthe worst set of features among the three given the detection of Disaster Tweets is the lowest with an F1 score of 0.52 "
   ]
  },
  {
   "cell_type": "markdown",
   "id": "c2e22ed4",
   "metadata": {},
   "source": [
    "# LogisticRegression with TfidVectorizer features"
   ]
  },
  {
   "cell_type": "code",
   "execution_count": 15,
   "id": "ced255dd",
   "metadata": {},
   "outputs": [
    {
     "name": "stdout",
     "output_type": "stream",
     "text": [
      "                precision    recall  f1-score   support\n",
      "\n",
      "    Safe Tweet    0.72340   0.96520   0.82699      1092\n",
      "Disaster Tweet    0.90931   0.48597   0.63342       784\n",
      "\n",
      "      accuracy                        0.76493      1876\n",
      "     macro avg    0.81636   0.72559   0.73020      1876\n",
      "  weighted avg    0.80110   0.76493   0.74609      1876\n",
      "\n"
     ]
    },
    {
     "data": {
      "text/html": [
       "<div>\n",
       "<style scoped>\n",
       "    .dataframe tbody tr th:only-of-type {\n",
       "        vertical-align: middle;\n",
       "    }\n",
       "\n",
       "    .dataframe tbody tr th {\n",
       "        vertical-align: top;\n",
       "    }\n",
       "\n",
       "    .dataframe thead th {\n",
       "        text-align: right;\n",
       "    }\n",
       "</style>\n",
       "<table border=\"1\" class=\"dataframe\">\n",
       "  <thead>\n",
       "    <tr style=\"text-align: right;\">\n",
       "      <th></th>\n",
       "      <th>Safe Tweet</th>\n",
       "      <th>Disaster Tweet</th>\n",
       "    </tr>\n",
       "  </thead>\n",
       "  <tbody>\n",
       "    <tr>\n",
       "      <th>Safe Tweet</th>\n",
       "      <td>1054</td>\n",
       "      <td>38</td>\n",
       "    </tr>\n",
       "    <tr>\n",
       "      <th>Disaster Tweet</th>\n",
       "      <td>403</td>\n",
       "      <td>381</td>\n",
       "    </tr>\n",
       "  </tbody>\n",
       "</table>\n",
       "</div>"
      ],
      "text/plain": [
       "                Safe Tweet  Disaster Tweet\n",
       "Safe Tweet            1054              38\n",
       "Disaster Tweet         403             381"
      ]
     },
     "execution_count": 15,
     "metadata": {},
     "output_type": "execute_result"
    }
   ],
   "source": [
    "# Uni features\n",
    "log = LogisticRegression(solver = 'saga', C = max_c, random_state = 0).fit(tfid_uni_train, target_train)\n",
    "log_tfid_uni_prediction = log.predict(tfid_uni_test)\n",
    "labels = ['Safe Tweet', 'Disaster Tweet']\n",
    "print(classification_report(target_test, log_tfid_uni_prediction, target_names = labels, digits = 5))\n",
    "log_tfid_uni = classification_report(target_test, log_tfid_uni_prediction, target_names = labels, output_dict = True)\n",
    "pd.DataFrame(confusion_matrix(target_test, log_tfid_uni_prediction), index=labels, columns=labels)"
   ]
  },
  {
   "cell_type": "code",
   "execution_count": 16,
   "id": "68078c6d",
   "metadata": {},
   "outputs": [
    {
     "name": "stdout",
     "output_type": "stream",
     "text": [
      "                precision    recall  f1-score   support\n",
      "\n",
      "    Safe Tweet    0.69534   0.98443   0.81501      1092\n",
      "Disaster Tweet    0.94848   0.39923   0.56194       784\n",
      "\n",
      "      accuracy                        0.73987      1876\n",
      "     macro avg    0.82191   0.69183   0.68848      1876\n",
      "  weighted avg    0.80113   0.73987   0.70925      1876\n",
      "\n"
     ]
    },
    {
     "data": {
      "text/html": [
       "<div>\n",
       "<style scoped>\n",
       "    .dataframe tbody tr th:only-of-type {\n",
       "        vertical-align: middle;\n",
       "    }\n",
       "\n",
       "    .dataframe tbody tr th {\n",
       "        vertical-align: top;\n",
       "    }\n",
       "\n",
       "    .dataframe thead th {\n",
       "        text-align: right;\n",
       "    }\n",
       "</style>\n",
       "<table border=\"1\" class=\"dataframe\">\n",
       "  <thead>\n",
       "    <tr style=\"text-align: right;\">\n",
       "      <th></th>\n",
       "      <th>Safe Tweet</th>\n",
       "      <th>Disaster Tweet</th>\n",
       "    </tr>\n",
       "  </thead>\n",
       "  <tbody>\n",
       "    <tr>\n",
       "      <th>Safe Tweet</th>\n",
       "      <td>1075</td>\n",
       "      <td>17</td>\n",
       "    </tr>\n",
       "    <tr>\n",
       "      <th>Disaster Tweet</th>\n",
       "      <td>471</td>\n",
       "      <td>313</td>\n",
       "    </tr>\n",
       "  </tbody>\n",
       "</table>\n",
       "</div>"
      ],
      "text/plain": [
       "                Safe Tweet  Disaster Tweet\n",
       "Safe Tweet            1075              17\n",
       "Disaster Tweet         471             313"
      ]
     },
     "execution_count": 16,
     "metadata": {},
     "output_type": "execute_result"
    }
   ],
   "source": [
    "# Uni and Bi\n",
    "log = LogisticRegression(solver = 'saga', C = max_c, random_state = 0)\n",
    "log.fit(tfid_uni_bi_train, target_train)\n",
    "log_tfid_uni_bi_prediction = log.predict(tfid_uni_bi_test)\n",
    "labels = ['Safe Tweet', 'Disaster Tweet']\n",
    "print(classification_report(target_test, log_tfid_uni_bi_prediction, target_names = labels, digits = 5))\n",
    "log_tfid_uni_bi = classification_report(target_test, log_tfid_uni_bi_prediction, target_names = labels, output_dict = True)\n",
    "pd.DataFrame(confusion_matrix(target_test, log_tfid_uni_bi_prediction), index=labels, columns=labels)"
   ]
  },
  {
   "cell_type": "code",
   "execution_count": 17,
   "id": "cbe07878",
   "metadata": {
    "scrolled": true
   },
   "outputs": [
    {
     "name": "stdout",
     "output_type": "stream",
     "text": [
      "                precision    recall  f1-score   support\n",
      "\n",
      "    Safe Tweet    0.62948   0.99725   0.77179      1092\n",
      "Disaster Tweet    0.97945   0.18240   0.30753       784\n",
      "\n",
      "      accuracy                        0.65672      1876\n",
      "     macro avg    0.80447   0.58983   0.53966      1876\n",
      "  weighted avg    0.77574   0.65672   0.57777      1876\n",
      "\n"
     ]
    },
    {
     "data": {
      "text/html": [
       "<div>\n",
       "<style scoped>\n",
       "    .dataframe tbody tr th:only-of-type {\n",
       "        vertical-align: middle;\n",
       "    }\n",
       "\n",
       "    .dataframe tbody tr th {\n",
       "        vertical-align: top;\n",
       "    }\n",
       "\n",
       "    .dataframe thead th {\n",
       "        text-align: right;\n",
       "    }\n",
       "</style>\n",
       "<table border=\"1\" class=\"dataframe\">\n",
       "  <thead>\n",
       "    <tr style=\"text-align: right;\">\n",
       "      <th></th>\n",
       "      <th>Safe Tweet</th>\n",
       "      <th>Disaster Tweet</th>\n",
       "    </tr>\n",
       "  </thead>\n",
       "  <tbody>\n",
       "    <tr>\n",
       "      <th>Safe Tweet</th>\n",
       "      <td>1089</td>\n",
       "      <td>3</td>\n",
       "    </tr>\n",
       "    <tr>\n",
       "      <th>Disaster Tweet</th>\n",
       "      <td>641</td>\n",
       "      <td>143</td>\n",
       "    </tr>\n",
       "  </tbody>\n",
       "</table>\n",
       "</div>"
      ],
      "text/plain": [
       "                Safe Tweet  Disaster Tweet\n",
       "Safe Tweet            1089               3\n",
       "Disaster Tweet         641             143"
      ]
     },
     "execution_count": 17,
     "metadata": {},
     "output_type": "execute_result"
    }
   ],
   "source": [
    "# Bi features\n",
    "log = LogisticRegression(solver = 'liblinear', C = max_c, random_state = 0)\n",
    "log.fit(tfid_bi_train, target_train)\n",
    "log_tfid_bi_prediction = log.predict(tfid_bi_test)\n",
    "labels = ['Safe Tweet', 'Disaster Tweet']\n",
    "print(classification_report(target_test, log_tfid_bi_prediction, target_names = labels, digits = 5))\n",
    "log_tfid_bi = classification_report(target_test, log_tfid_bi_prediction, target_names = labels, output_dict = True)\n",
    "pd.DataFrame(confusion_matrix(target_test, log_tfid_bi_prediction), index=labels, columns=labels)"
   ]
  },
  {
   "cell_type": "markdown",
   "id": "eb1a2bf2",
   "metadata": {},
   "source": [
    "CountVectorizer outperformed Tfid features using LogisticRegression. Also, using only Bigrams is clearly not useful."
   ]
  },
  {
   "cell_type": "markdown",
   "id": "69db7058",
   "metadata": {},
   "source": [
    "# RandomForest "
   ]
  },
  {
   "cell_type": "code",
   "execution_count": 18,
   "id": "fb122df1",
   "metadata": {},
   "outputs": [],
   "source": [
    "# steps = [('cv', CountVectorizer(strip_accents = 'ascii', ngram_range=(1,2))), \n",
    "#          ('rf', RandomForestClassifier(n_jobs = -1, random_state = 0))]\n",
    "\n",
    "# pipe = Pipeline(steps)\n",
    "\n",
    "# params = {'rf__n_estimators':list(range(100, 201))}\n",
    "\n",
    "# gs = GridSearchCV(pipe, params, cv=5).fit(tweets_train, target_train)\n",
    "\n",
    "# best results: n_estimators = 193"
   ]
  },
  {
   "cell_type": "code",
   "execution_count": 19,
   "id": "cbb5f412",
   "metadata": {},
   "outputs": [],
   "source": [
    "# rf = RandomForestClassifier(n_jobs = -1, random_state = 0)\n",
    "\n",
    "# params = {'n_estimators':list(range(186, 201))}\n",
    "\n",
    "# gs = GridSearchCV(rf, params, cv=5).fit(cv_uni_train, target_train)\n",
    "# gs.best_params_\n",
    "\n",
    "# best_params_: n_estimators = 199"
   ]
  },
  {
   "cell_type": "code",
   "execution_count": 20,
   "id": "2a00ccaa",
   "metadata": {},
   "outputs": [
    {
     "name": "stdout",
     "output_type": "stream",
     "text": [
      "                precision    recall  f1-score   support\n",
      "\n",
      "    Safe Tweet    0.77901   0.90385   0.83680      1092\n",
      "Disaster Tweet    0.82759   0.64286   0.72362       784\n",
      "\n",
      "      accuracy                        0.79478      1876\n",
      "     macro avg    0.80330   0.77335   0.78021      1876\n",
      "  weighted avg    0.79931   0.79478   0.78950      1876\n",
      "\n"
     ]
    },
    {
     "data": {
      "text/html": [
       "<div>\n",
       "<style scoped>\n",
       "    .dataframe tbody tr th:only-of-type {\n",
       "        vertical-align: middle;\n",
       "    }\n",
       "\n",
       "    .dataframe tbody tr th {\n",
       "        vertical-align: top;\n",
       "    }\n",
       "\n",
       "    .dataframe thead th {\n",
       "        text-align: right;\n",
       "    }\n",
       "</style>\n",
       "<table border=\"1\" class=\"dataframe\">\n",
       "  <thead>\n",
       "    <tr style=\"text-align: right;\">\n",
       "      <th></th>\n",
       "      <th>Safe Tweet</th>\n",
       "      <th>Disaster Tweet</th>\n",
       "    </tr>\n",
       "  </thead>\n",
       "  <tbody>\n",
       "    <tr>\n",
       "      <th>Safe Tweet</th>\n",
       "      <td>987</td>\n",
       "      <td>105</td>\n",
       "    </tr>\n",
       "    <tr>\n",
       "      <th>Disaster Tweet</th>\n",
       "      <td>280</td>\n",
       "      <td>504</td>\n",
       "    </tr>\n",
       "  </tbody>\n",
       "</table>\n",
       "</div>"
      ],
      "text/plain": [
       "                Safe Tweet  Disaster Tweet\n",
       "Safe Tweet             987             105\n",
       "Disaster Tweet         280             504"
      ]
     },
     "execution_count": 20,
     "metadata": {},
     "output_type": "execute_result"
    }
   ],
   "source": [
    "# CountVectorizer uni features\n",
    "rf = RandomForestClassifier(n_estimators = 199, n_jobs = -1, random_state = 0).fit(cv_uni_train, target_train)\n",
    "rf_predict = rf.predict(cv_uni_test)\n",
    "labels = ['Safe Tweet', 'Disaster Tweet']\n",
    "print(classification_report(target_test, rf_predict, target_names = labels, digits = 5))\n",
    "rf_cv_uni = classification_report(target_test, rf_predict, target_names = labels, output_dict = True)\n",
    "pd.DataFrame(confusion_matrix(target_test, rf_predict), index=labels, columns=labels)"
   ]
  },
  {
   "cell_type": "code",
   "execution_count": 21,
   "id": "c0346a53",
   "metadata": {},
   "outputs": [
    {
     "name": "stdout",
     "output_type": "stream",
     "text": [
      "                precision    recall  f1-score   support\n",
      "\n",
      "    Safe Tweet    0.75557   0.93132   0.83429      1092\n",
      "Disaster Tweet    0.85849   0.58036   0.69254       784\n",
      "\n",
      "      accuracy                        0.78465      1876\n",
      "     macro avg    0.80703   0.75584   0.76342      1876\n",
      "  weighted avg    0.79858   0.78465   0.77505      1876\n",
      "\n"
     ]
    },
    {
     "data": {
      "text/html": [
       "<div>\n",
       "<style scoped>\n",
       "    .dataframe tbody tr th:only-of-type {\n",
       "        vertical-align: middle;\n",
       "    }\n",
       "\n",
       "    .dataframe tbody tr th {\n",
       "        vertical-align: top;\n",
       "    }\n",
       "\n",
       "    .dataframe thead th {\n",
       "        text-align: right;\n",
       "    }\n",
       "</style>\n",
       "<table border=\"1\" class=\"dataframe\">\n",
       "  <thead>\n",
       "    <tr style=\"text-align: right;\">\n",
       "      <th></th>\n",
       "      <th>Safe Tweet</th>\n",
       "      <th>Disaster Tweet</th>\n",
       "    </tr>\n",
       "  </thead>\n",
       "  <tbody>\n",
       "    <tr>\n",
       "      <th>Safe Tweet</th>\n",
       "      <td>1017</td>\n",
       "      <td>75</td>\n",
       "    </tr>\n",
       "    <tr>\n",
       "      <th>Disaster Tweet</th>\n",
       "      <td>329</td>\n",
       "      <td>455</td>\n",
       "    </tr>\n",
       "  </tbody>\n",
       "</table>\n",
       "</div>"
      ],
      "text/plain": [
       "                Safe Tweet  Disaster Tweet\n",
       "Safe Tweet            1017              75\n",
       "Disaster Tweet         329             455"
      ]
     },
     "execution_count": 21,
     "metadata": {},
     "output_type": "execute_result"
    }
   ],
   "source": [
    "# CountVectorizer uni and bi features\n",
    "rf = RandomForestClassifier(n_estimators = 199, n_jobs = -1, random_state = 0).fit(cv_uni_bi_train, target_train)\n",
    "rf_predict = rf.predict(cv_uni_bi_test)\n",
    "labels = ['Safe Tweet', 'Disaster Tweet']\n",
    "print(classification_report(target_test, rf_predict, target_names = labels, digits = 5))\n",
    "rf_cv_uni_bi = classification_report(target_test, rf_predict, target_names = labels, output_dict = True)\n",
    "pd.DataFrame(confusion_matrix(target_test, rf_predict), index=labels, columns=labels)"
   ]
  },
  {
   "cell_type": "code",
   "execution_count": 22,
   "id": "2264d6ad",
   "metadata": {
    "scrolled": true
   },
   "outputs": [
    {
     "name": "stdout",
     "output_type": "stream",
     "text": [
      "                precision    recall  f1-score   support\n",
      "\n",
      "    Safe Tweet    0.79698   0.86996   0.83187      1092\n",
      "Disaster Tweet    0.79240   0.69133   0.73842       784\n",
      "\n",
      "      accuracy                        0.79531      1876\n",
      "     macro avg    0.79469   0.78064   0.78515      1876\n",
      "  weighted avg    0.79506   0.79531   0.79282      1876\n",
      "\n"
     ]
    },
    {
     "data": {
      "text/html": [
       "<div>\n",
       "<style scoped>\n",
       "    .dataframe tbody tr th:only-of-type {\n",
       "        vertical-align: middle;\n",
       "    }\n",
       "\n",
       "    .dataframe tbody tr th {\n",
       "        vertical-align: top;\n",
       "    }\n",
       "\n",
       "    .dataframe thead th {\n",
       "        text-align: right;\n",
       "    }\n",
       "</style>\n",
       "<table border=\"1\" class=\"dataframe\">\n",
       "  <thead>\n",
       "    <tr style=\"text-align: right;\">\n",
       "      <th></th>\n",
       "      <th>Safe Tweet</th>\n",
       "      <th>Disaster Tweet</th>\n",
       "    </tr>\n",
       "  </thead>\n",
       "  <tbody>\n",
       "    <tr>\n",
       "      <th>Safe Tweet</th>\n",
       "      <td>950</td>\n",
       "      <td>142</td>\n",
       "    </tr>\n",
       "    <tr>\n",
       "      <th>Disaster Tweet</th>\n",
       "      <td>242</td>\n",
       "      <td>542</td>\n",
       "    </tr>\n",
       "  </tbody>\n",
       "</table>\n",
       "</div>"
      ],
      "text/plain": [
       "                Safe Tweet  Disaster Tweet\n",
       "Safe Tweet             950             142\n",
       "Disaster Tweet         242             542"
      ]
     },
     "execution_count": 22,
     "metadata": {},
     "output_type": "execute_result"
    }
   ],
   "source": [
    "# TfidVectorizer uni features\n",
    "rf = RandomForestClassifier(n_estimators = 199, n_jobs = -1, random_state = 0).fit(tfid_uni_train, target_train)\n",
    "rf_predict = rf.predict(tfid_uni_test)\n",
    "labels = ['Safe Tweet', 'Disaster Tweet']\n",
    "print(classification_report(target_test, rf_predict, target_names = labels, digits = 5))\n",
    "rf_tfid_uni = classification_report(target_test, rf_predict, target_names = labels, digits = 5)\n",
    "pd.DataFrame(confusion_matrix(target_test, rf_predict), index=labels, columns=labels)"
   ]
  },
  {
   "cell_type": "markdown",
   "id": "23f17887",
   "metadata": {},
   "source": [
    "This model did that best at detecting Disaster Tweets"
   ]
  },
  {
   "cell_type": "code",
   "execution_count": 23,
   "id": "f393f1ae",
   "metadata": {},
   "outputs": [
    {
     "name": "stdout",
     "output_type": "stream",
     "text": [
      "                precision    recall  f1-score   support\n",
      "\n",
      "    Safe Tweet    0.79034   0.88370   0.83441      1092\n",
      "Disaster Tweet    0.80611   0.67347   0.73384       784\n",
      "\n",
      "      accuracy                        0.79584      1876\n",
      "     macro avg    0.79822   0.77858   0.78413      1876\n",
      "  weighted avg    0.79693   0.79584   0.79238      1876\n",
      "\n"
     ]
    },
    {
     "data": {
      "text/html": [
       "<div>\n",
       "<style scoped>\n",
       "    .dataframe tbody tr th:only-of-type {\n",
       "        vertical-align: middle;\n",
       "    }\n",
       "\n",
       "    .dataframe tbody tr th {\n",
       "        vertical-align: top;\n",
       "    }\n",
       "\n",
       "    .dataframe thead th {\n",
       "        text-align: right;\n",
       "    }\n",
       "</style>\n",
       "<table border=\"1\" class=\"dataframe\">\n",
       "  <thead>\n",
       "    <tr style=\"text-align: right;\">\n",
       "      <th></th>\n",
       "      <th>Safe Tweet</th>\n",
       "      <th>Disaster Tweet</th>\n",
       "    </tr>\n",
       "  </thead>\n",
       "  <tbody>\n",
       "    <tr>\n",
       "      <th>Safe Tweet</th>\n",
       "      <td>965</td>\n",
       "      <td>127</td>\n",
       "    </tr>\n",
       "    <tr>\n",
       "      <th>Disaster Tweet</th>\n",
       "      <td>256</td>\n",
       "      <td>528</td>\n",
       "    </tr>\n",
       "  </tbody>\n",
       "</table>\n",
       "</div>"
      ],
      "text/plain": [
       "                Safe Tweet  Disaster Tweet\n",
       "Safe Tweet             965             127\n",
       "Disaster Tweet         256             528"
      ]
     },
     "execution_count": 23,
     "metadata": {},
     "output_type": "execute_result"
    }
   ],
   "source": [
    "# TfidVectorizer uni and bi features\n",
    "rf = RandomForestClassifier(n_estimators = 199, n_jobs = -1, random_state = 0).fit(tfid_uni_bi_train, target_train)\n",
    "rf_predict = rf.predict(tfid_uni_bi_test)\n",
    "labels = ['Safe Tweet', 'Disaster Tweet']\n",
    "print(classification_report(target_test, rf_predict, target_names = labels, digits = 5))\n",
    "rf_tfid_uni_bi = classification_report(target_test, rf_predict, target_names = labels, output_dict = True)\n",
    "pd.DataFrame(confusion_matrix(target_test, rf_predict), index=labels, columns=labels)"
   ]
  },
  {
   "cell_type": "markdown",
   "id": "fba690d2",
   "metadata": {},
   "source": [
    "# Support Vector Machine  "
   ]
  },
  {
   "cell_type": "code",
   "execution_count": 24,
   "id": "b5a9b4a3",
   "metadata": {},
   "outputs": [
    {
     "name": "stdout",
     "output_type": "stream",
     "text": [
      "                precision    recall  f1-score   support\n",
      "\n",
      "    Safe Tweet    0.77422   0.92949   0.84478      1092\n",
      "Disaster Tweet    0.86372   0.62245   0.72350       784\n",
      "\n",
      "      accuracy                        0.80117      1876\n",
      "     macro avg    0.81897   0.77597   0.78414      1876\n",
      "  weighted avg    0.81162   0.80117   0.79409      1876\n",
      "\n"
     ]
    },
    {
     "data": {
      "text/html": [
       "<div>\n",
       "<style scoped>\n",
       "    .dataframe tbody tr th:only-of-type {\n",
       "        vertical-align: middle;\n",
       "    }\n",
       "\n",
       "    .dataframe tbody tr th {\n",
       "        vertical-align: top;\n",
       "    }\n",
       "\n",
       "    .dataframe thead th {\n",
       "        text-align: right;\n",
       "    }\n",
       "</style>\n",
       "<table border=\"1\" class=\"dataframe\">\n",
       "  <thead>\n",
       "    <tr style=\"text-align: right;\">\n",
       "      <th></th>\n",
       "      <th>Safe Tweet</th>\n",
       "      <th>Disaster Tweet</th>\n",
       "    </tr>\n",
       "  </thead>\n",
       "  <tbody>\n",
       "    <tr>\n",
       "      <th>Safe Tweet</th>\n",
       "      <td>1015</td>\n",
       "      <td>77</td>\n",
       "    </tr>\n",
       "    <tr>\n",
       "      <th>Disaster Tweet</th>\n",
       "      <td>296</td>\n",
       "      <td>488</td>\n",
       "    </tr>\n",
       "  </tbody>\n",
       "</table>\n",
       "</div>"
      ],
      "text/plain": [
       "                Safe Tweet  Disaster Tweet\n",
       "Safe Tweet            1015              77\n",
       "Disaster Tweet         296             488"
      ]
     },
     "execution_count": 24,
     "metadata": {},
     "output_type": "execute_result"
    }
   ],
   "source": [
    "sv = SVC(random_state = 0)\n",
    "# params = {'C':np.logspace(-2,2,50)}\n",
    "# svm = GridSearchCV(sv, params, cv = 5)\n",
    "sv.fit(cv_uni_train, target_train)\n",
    "sv_pred = sv.predict(cv_uni_test)\n",
    "labels = ['Safe Tweet', 'Disaster Tweet']\n",
    "print(classification_report(target_test, sv_pred, target_names = labels, digits = 5))\n",
    "sv_cv_uni = classification_report(target_test, sv_pred, target_names = labels, output_dict = True)\n",
    "pd.DataFrame(confusion_matrix(target_test, sv_pred), index=labels, columns=labels)"
   ]
  },
  {
   "cell_type": "code",
   "execution_count": 25,
   "id": "45820c0b",
   "metadata": {},
   "outputs": [],
   "source": [
    "# svm.best_params_\n",
    "# output: 'C' = 1.93"
   ]
  },
  {
   "cell_type": "markdown",
   "id": "80a8f226",
   "metadata": {},
   "source": [
    "# Data Quantity Assessment"
   ]
  },
  {
   "cell_type": "code",
   "execution_count": 26,
   "id": "329a66f4",
   "metadata": {},
   "outputs": [],
   "source": [
    "fractions = [.2, .25, .3, .35, .4, .45, .5, .6, .75, .8, 1.0]\n",
    "train_size, train_scores, test_scores = learning_curve(LogisticRegression(), cv_uni_bi_train, target_train, train_sizes=fractions)\n",
    "train_scores_mean = np.mean(train_scores, axis=1)\n",
    "train_scores_std = np.std(train_scores, axis=1)\n",
    "test_scores_mean = np.mean(test_scores, axis=1)\n",
    "test_scores_std = np.std(test_scores, axis=1)"
   ]
  },
  {
   "cell_type": "code",
   "execution_count": 27,
   "id": "0982496b",
   "metadata": {},
   "outputs": [
    {
     "data": {
      "image/png": "[encoded data removed]",
      "text/plain": [
       "<Figure size 720x360 with 1 Axes>"
      ]
     },
     "metadata": {
      "needs_background": "light"
     },
     "output_type": "display_data"
    }
   ],
   "source": [
    "plt.subplots(figsize=(10, 5))\n",
    "plt.errorbar(train_size, test_scores_mean, yerr=test_scores_std)\n",
    "plt.xlabel('Training Size')\n",
    "plt.ylabel('CV Scores', rotation = 0)\n",
    "plt.title('Cross-validation score as Training Size increases');"
   ]
  },
  {
   "cell_type": "markdown",
   "id": "396165bc",
   "metadata": {},
   "source": [
    "The gradual increase in score implies that more data could be beneficial but considering the score increased by about only 2% from around 2000 to 4500 entries, an additional 2500 entries will almost certainly give less than a 2% increase.  "
   ]
  },
  {
   "cell_type": "markdown",
   "id": "51576be2",
   "metadata": {},
   "source": [
    "# LogReg withCleaned Data"
   ]
  },
  {
   "cell_type": "code",
   "execution_count": 28,
   "id": "81f35bbb",
   "metadata": {},
   "outputs": [],
   "source": [
    "# CountVectorizer Uni and Bi features on Cleaned Set\n",
    "cv_uni_bi = CountVectorizer(analyzer='word', strip_accents = 'ascii', ngram_range = (1,2))\n",
    "cv_clean_uni_bi_train = cv_uni_bi.fit_transform(cleaned_train)\n",
    "cv_clean_uni_bi_test = cv_uni_bi.transform(cleaned_test)\n",
    "\n",
    "# TfidVectorizer Uni and Bi features on Cleaned Set\n",
    "tfid_uni_bi = TfidfVectorizer(sublinear_tf=True, strip_accents = 'ascii', ngram_range = (1,2))\n",
    "tfid_clean_uni_bi_train = tfid_uni_bi.fit_transform(cleaned_train)\n",
    "tfid_clean_uni_bi_test = tfid_uni_bi.transform(cleaned_test)\n",
    "\n",
    "# print('CountVectorizer Train features shape:', cv_uni_bi_train.shape, '| TfidVectorizer Train features shape:', tfid_uni_bi_train.shape, \n",
    "#       '\\nCountVectorizer Test features shape: ', cv_uni_bi_test.shape, '| TfidVectorizer Test features shape: ', tfid_uni_bi_test.shape)"
   ]
  },
  {
   "cell_type": "code",
   "execution_count": 29,
   "id": "b8346f09",
   "metadata": {},
   "outputs": [],
   "source": [
    "# CountVectorizer Uni features on Cleaned Set\n",
    "cv = CountVectorizer(analyzer='word', strip_accents = 'ascii', ngram_range = (1,1))\n",
    "cv_clean_uni_train = cv.fit_transform(cleaned_train)\n",
    "cv_clean_uni_test = cv.transform(cleaned_test)\n",
    "\n",
    "# TfidVectorizer Uni features on Cleaned Set\n",
    "tfid = TfidfVectorizer(sublinear_tf=True, strip_accents = 'ascii', ngram_range = (1,1))\n",
    "tfid_clean_uni_train = tfid.fit_transform(cleaned_train)\n",
    "tfid_clean_uni_test = tfid.transform(cleaned_test)\n",
    "\n",
    "# print('CountVectorizer Train features shape:', cv_uni_bi_train.shape, '| TfidVectorizer Train features shape:', tfid_uni_bi_train.shape, \n",
    "#       '\\nCountVectorizer Test features shape: ', cv_uni_bi_test.shape, '| TfidVectorizer Test features shape: ', tfid_uni_bi_test.shape)"
   ]
  },
  {
   "cell_type": "code",
   "execution_count": 30,
   "id": "983c9e54",
   "metadata": {
    "scrolled": false
   },
   "outputs": [
    {
     "name": "stdout",
     "output_type": "stream",
     "text": [
      "                precision    recall  f1-score   support\n",
      "\n",
      "    Safe Tweet    0.78884   0.90659   0.84363      1092\n",
      "Disaster Tweet    0.83575   0.66199   0.73879       784\n",
      "\n",
      "      accuracy                        0.80437      1876\n",
      "     macro avg    0.81230   0.78429   0.79121      1876\n",
      "  weighted avg    0.80845   0.80437   0.79982      1876\n",
      "\n"
     ]
    },
    {
     "data": {
      "text/html": [
       "<div>\n",
       "<style scoped>\n",
       "    .dataframe tbody tr th:only-of-type {\n",
       "        vertical-align: middle;\n",
       "    }\n",
       "\n",
       "    .dataframe tbody tr th {\n",
       "        vertical-align: top;\n",
       "    }\n",
       "\n",
       "    .dataframe thead th {\n",
       "        text-align: right;\n",
       "    }\n",
       "</style>\n",
       "<table border=\"1\" class=\"dataframe\">\n",
       "  <thead>\n",
       "    <tr style=\"text-align: right;\">\n",
       "      <th></th>\n",
       "      <th>Safe Tweet</th>\n",
       "      <th>Disaster Tweet</th>\n",
       "    </tr>\n",
       "  </thead>\n",
       "  <tbody>\n",
       "    <tr>\n",
       "      <th>Safe Tweet</th>\n",
       "      <td>990</td>\n",
       "      <td>102</td>\n",
       "    </tr>\n",
       "    <tr>\n",
       "      <th>Disaster Tweet</th>\n",
       "      <td>265</td>\n",
       "      <td>519</td>\n",
       "    </tr>\n",
       "  </tbody>\n",
       "</table>\n",
       "</div>"
      ],
      "text/plain": [
       "                Safe Tweet  Disaster Tweet\n",
       "Safe Tweet             990             102\n",
       "Disaster Tweet         265             519"
      ]
     },
     "execution_count": 30,
     "metadata": {},
     "output_type": "execute_result"
    }
   ],
   "source": [
    "# LogReg, uni/bi, lbfgs, \n",
    "log_lbfgs = LogisticRegression(solver = 'lbfgs', C = max_c, random_state = 0)\n",
    "log_lbfgs.fit(cv_clean_uni_bi_train, target_train)\n",
    "log_cv_uni_lbfgs_prediction = log_lbfgs.predict(cv_clean_uni_bi_test)\n",
    "labels = ['Safe Tweet', 'Disaster Tweet']\n",
    "print(classification_report(target_test, log_cv_uni_lbfgs_prediction, target_names = labels, digits = 5))\n",
    "log_clean_cv_uni_bi_lbfgs = classification_report(target_test, log_cv_uni_lbfgs_prediction, target_names = labels, output_dict = True)\n",
    "pd.DataFrame(confusion_matrix(target_test, log_cv_uni_lbfgs_prediction), index=labels, columns=labels)"
   ]
  },
  {
   "cell_type": "code",
   "execution_count": 31,
   "id": "4088b868",
   "metadata": {},
   "outputs": [
    {
     "name": "stdout",
     "output_type": "stream",
     "text": [
      "                precision    recall  f1-score   support\n",
      "\n",
      "    Safe Tweet    0.79757   0.90201   0.84658      1092\n",
      "Disaster Tweet    0.83307   0.68112   0.74947       784\n",
      "\n",
      "      accuracy                        0.80970      1876\n",
      "     macro avg    0.81532   0.79157   0.79803      1876\n",
      "  weighted avg    0.81241   0.80970   0.80600      1876\n",
      "\n"
     ]
    },
    {
     "name": "stderr",
     "output_type": "stream",
     "text": [
      "C:\\Users\\trent\\anaconda3\\lib\\site-packages\\sklearn\\linear_model\\_sag.py:328: ConvergenceWarning: The max_iter was reached which means the coef_ did not converge\n",
      "  warnings.warn(\"The max_iter was reached which means \"\n"
     ]
    },
    {
     "data": {
      "text/html": [
       "<div>\n",
       "<style scoped>\n",
       "    .dataframe tbody tr th:only-of-type {\n",
       "        vertical-align: middle;\n",
       "    }\n",
       "\n",
       "    .dataframe tbody tr th {\n",
       "        vertical-align: top;\n",
       "    }\n",
       "\n",
       "    .dataframe thead th {\n",
       "        text-align: right;\n",
       "    }\n",
       "</style>\n",
       "<table border=\"1\" class=\"dataframe\">\n",
       "  <thead>\n",
       "    <tr style=\"text-align: right;\">\n",
       "      <th></th>\n",
       "      <th>Safe Tweet</th>\n",
       "      <th>Disaster Tweet</th>\n",
       "    </tr>\n",
       "  </thead>\n",
       "  <tbody>\n",
       "    <tr>\n",
       "      <th>Safe Tweet</th>\n",
       "      <td>985</td>\n",
       "      <td>107</td>\n",
       "    </tr>\n",
       "    <tr>\n",
       "      <th>Disaster Tweet</th>\n",
       "      <td>250</td>\n",
       "      <td>534</td>\n",
       "    </tr>\n",
       "  </tbody>\n",
       "</table>\n",
       "</div>"
      ],
      "text/plain": [
       "                Safe Tweet  Disaster Tweet\n",
       "Safe Tweet             985             107\n",
       "Disaster Tweet         250             534"
      ]
     },
     "execution_count": 31,
     "metadata": {},
     "output_type": "execute_result"
    }
   ],
   "source": [
    "# uni and bi, saga \n",
    "log = LogisticRegression(solver = 'saga', C = max_c, random_state = 0)\n",
    "log.fit(cv_clean_uni_bi_train, target_train)\n",
    "log_cv_uni_prediction = log.predict(cv_clean_uni_bi_test)\n",
    "labels = ['Safe Tweet', 'Disaster Tweet']\n",
    "print(classification_report(target_test, log_cv_uni_prediction, target_names = labels, digits = 5))\n",
    "log_clean_cv_uni_bi_saga = classification_report(target_test, log_cv_uni_prediction, target_names = labels, output_dict = True)\n",
    "pd.DataFrame(confusion_matrix(target_test, log_cv_uni_prediction), index=labels, columns=labels)"
   ]
  },
  {
   "cell_type": "code",
   "execution_count": 32,
   "id": "14044141",
   "metadata": {},
   "outputs": [
    {
     "name": "stdout",
     "output_type": "stream",
     "text": [
      "                precision    recall  f1-score   support\n",
      "\n",
      "    Safe Tweet    0.79690   0.89469   0.84297      1092\n",
      "Disaster Tweet    0.82308   0.68240   0.74616       784\n",
      "\n",
      "      accuracy                        0.80597      1876\n",
      "     macro avg    0.80999   0.78854   0.79457      1876\n",
      "  weighted avg    0.80784   0.80597   0.80251      1876\n",
      "\n"
     ]
    },
    {
     "name": "stderr",
     "output_type": "stream",
     "text": [
      "C:\\Users\\trent\\anaconda3\\lib\\site-packages\\sklearn\\linear_model\\_sag.py:328: ConvergenceWarning: The max_iter was reached which means the coef_ did not converge\n",
      "  warnings.warn(\"The max_iter was reached which means \"\n"
     ]
    },
    {
     "data": {
      "text/html": [
       "<div>\n",
       "<style scoped>\n",
       "    .dataframe tbody tr th:only-of-type {\n",
       "        vertical-align: middle;\n",
       "    }\n",
       "\n",
       "    .dataframe tbody tr th {\n",
       "        vertical-align: top;\n",
       "    }\n",
       "\n",
       "    .dataframe thead th {\n",
       "        text-align: right;\n",
       "    }\n",
       "</style>\n",
       "<table border=\"1\" class=\"dataframe\">\n",
       "  <thead>\n",
       "    <tr style=\"text-align: right;\">\n",
       "      <th></th>\n",
       "      <th>Safe Tweet</th>\n",
       "      <th>Disaster Tweet</th>\n",
       "    </tr>\n",
       "  </thead>\n",
       "  <tbody>\n",
       "    <tr>\n",
       "      <th>Safe Tweet</th>\n",
       "      <td>977</td>\n",
       "      <td>115</td>\n",
       "    </tr>\n",
       "    <tr>\n",
       "      <th>Disaster Tweet</th>\n",
       "      <td>249</td>\n",
       "      <td>535</td>\n",
       "    </tr>\n",
       "  </tbody>\n",
       "</table>\n",
       "</div>"
      ],
      "text/plain": [
       "                Safe Tweet  Disaster Tweet\n",
       "Safe Tweet             977             115\n",
       "Disaster Tweet         249             535"
      ]
     },
     "execution_count": 32,
     "metadata": {},
     "output_type": "execute_result"
    }
   ],
   "source": [
    "# LogReg, uni, saga \n",
    "log = LogisticRegression(solver = 'saga', C = max_c, random_state = 0)\n",
    "log.fit(cv_clean_uni_train, target_train)\n",
    "log_cv_uni_lbfgs_prediction = log.predict(cv_clean_uni_test)\n",
    "labels = ['Safe Tweet', 'Disaster Tweet']\n",
    "print(classification_report(target_test, log_cv_uni_lbfgs_prediction, target_names = labels, digits = 5))\n",
    "log_clean_cv_uni_saga = classification_report(target_test, log_cv_uni_lbfgs_prediction, target_names = labels, output_dict = True)\n",
    "pd.DataFrame(confusion_matrix(target_test, log_cv_uni_lbfgs_prediction), index=labels, columns=labels)"
   ]
  },
  {
   "cell_type": "markdown",
   "id": "4604d465",
   "metadata": {},
   "source": [
    "The cleaner data set marginally increased detection of Safe Tweets but had zero impact on the detection of Disaster Tweets. Saga analyzer worked best"
   ]
  },
  {
   "cell_type": "markdown",
   "id": "ca45842b",
   "metadata": {},
   "source": [
    "# Results"
   ]
  },
  {
   "cell_type": "markdown",
   "id": "0aaf3b7c",
   "metadata": {},
   "source": [
    "dataframe that compares log solvers <br> dataframe that compares cv and tfid features <br> dataframe that compares algorithms <br> dataframe that compares gram features"
   ]
  },
  {
   "cell_type": "code",
   "execution_count": 34,
   "id": "f9ed8660",
   "metadata": {
    "scrolled": true
   },
   "outputs": [
    {
     "data": {
      "text/plain": [
       "{'Safe Tweet': {'precision': 0.7975708502024291,\n",
       "  'recall': 0.902014652014652,\n",
       "  'f1-score': 0.8465835840137516,\n",
       "  'support': 1092},\n",
       " 'Disaster Tweet': {'precision': 0.8330733229329174,\n",
       "  'recall': 0.6811224489795918,\n",
       "  'f1-score': 0.7494736842105264,\n",
       "  'support': 784},\n",
       " 'accuracy': 0.8097014925373134,\n",
       " 'macro avg': {'precision': 0.8153220865676732,\n",
       "  'recall': 0.7915685504971219,\n",
       "  'f1-score': 0.798028634112139,\n",
       "  'support': 1876},\n",
       " 'weighted avg': {'precision': 0.812407704477857,\n",
       "  'recall': 0.8097014925373134,\n",
       "  'f1-score': 0.8060003423049411,\n",
       "  'support': 1876}}"
      ]
     },
     "execution_count": 34,
     "metadata": {},
     "output_type": "execute_result"
    }
   ],
   "source": [
    "log_clean_cv_uni_bi_saga"
   ]
  },
  {
   "cell_type": "code",
   "execution_count": 35,
   "id": "65a46f84",
   "metadata": {
    "scrolled": false
   },
   "outputs": [
    {
     "data": {
      "text/html": [
       "<div>\n",
       "<style scoped>\n",
       "    .dataframe tbody tr th:only-of-type {\n",
       "        vertical-align: middle;\n",
       "    }\n",
       "\n",
       "    .dataframe tbody tr th {\n",
       "        vertical-align: top;\n",
       "    }\n",
       "\n",
       "    .dataframe thead th {\n",
       "        text-align: right;\n",
       "    }\n",
       "</style>\n",
       "<table border=\"1\" class=\"dataframe\">\n",
       "  <thead>\n",
       "    <tr style=\"text-align: right;\">\n",
       "      <th></th>\n",
       "      <th>Safe Tweet</th>\n",
       "      <th>Disaster Tweet</th>\n",
       "      <th>accuracy</th>\n",
       "      <th>macro avg</th>\n",
       "      <th>weighted avg</th>\n",
       "    </tr>\n",
       "  </thead>\n",
       "  <tbody>\n",
       "    <tr>\n",
       "      <th>precision</th>\n",
       "      <td>0.797571</td>\n",
       "      <td>0.833073</td>\n",
       "      <td>0.809701</td>\n",
       "      <td>0.815322</td>\n",
       "      <td>0.812408</td>\n",
       "    </tr>\n",
       "    <tr>\n",
       "      <th>recall</th>\n",
       "      <td>0.902015</td>\n",
       "      <td>0.681122</td>\n",
       "      <td>0.809701</td>\n",
       "      <td>0.791569</td>\n",
       "      <td>0.809701</td>\n",
       "    </tr>\n",
       "    <tr>\n",
       "      <th>f1-score</th>\n",
       "      <td>0.846584</td>\n",
       "      <td>0.749474</td>\n",
       "      <td>0.809701</td>\n",
       "      <td>0.798029</td>\n",
       "      <td>0.806000</td>\n",
       "    </tr>\n",
       "    <tr>\n",
       "      <th>support</th>\n",
       "      <td>1092.000000</td>\n",
       "      <td>784.000000</td>\n",
       "      <td>0.809701</td>\n",
       "      <td>1876.000000</td>\n",
       "      <td>1876.000000</td>\n",
       "    </tr>\n",
       "  </tbody>\n",
       "</table>\n",
       "</div>"
      ],
      "text/plain": [
       "            Safe Tweet  Disaster Tweet  accuracy    macro avg  weighted avg\n",
       "precision     0.797571        0.833073  0.809701     0.815322      0.812408\n",
       "recall        0.902015        0.681122  0.809701     0.791569      0.809701\n",
       "f1-score      0.846584        0.749474  0.809701     0.798029      0.806000\n",
       "support    1092.000000      784.000000  0.809701  1876.000000   1876.000000"
      ]
     },
     "execution_count": 35,
     "metadata": {},
     "output_type": "execute_result"
    }
   ],
   "source": [
    "pd.DataFrame(log_clean_cv_uni_bi_saga)"
   ]
  },
  {
   "cell_type": "code",
   "execution_count": 37,
   "id": "10923d58",
   "metadata": {
    "scrolled": true
   },
   "outputs": [
    {
     "data": {
      "text/html": [
       "<div>\n",
       "<style scoped>\n",
       "    .dataframe tbody tr th:only-of-type {\n",
       "        vertical-align: middle;\n",
       "    }\n",
       "\n",
       "    .dataframe tbody tr th {\n",
       "        vertical-align: top;\n",
       "    }\n",
       "\n",
       "    .dataframe thead th {\n",
       "        text-align: right;\n",
       "    }\n",
       "</style>\n",
       "<table border=\"1\" class=\"dataframe\">\n",
       "  <thead>\n",
       "    <tr style=\"text-align: right;\">\n",
       "      <th></th>\n",
       "      <th>F1_Score</th>\n",
       "      <th>Accuracy</th>\n",
       "    </tr>\n",
       "  </thead>\n",
       "  <tbody>\n",
       "    <tr>\n",
       "      <th>lbfgs</th>\n",
       "      <td>0.789683</td>\n",
       "      <td>0.802772</td>\n",
       "    </tr>\n",
       "    <tr>\n",
       "      <th>saga</th>\n",
       "      <td>0.789920</td>\n",
       "      <td>0.802772</td>\n",
       "    </tr>\n",
       "    <tr>\n",
       "      <th>liblinear</th>\n",
       "      <td>0.789683</td>\n",
       "      <td>0.802772</td>\n",
       "    </tr>\n",
       "  </tbody>\n",
       "</table>\n",
       "</div>"
      ],
      "text/plain": [
       "           F1_Score  Accuracy\n",
       "lbfgs      0.789683  0.802772\n",
       "saga       0.789920  0.802772\n",
       "liblinear  0.789683  0.802772"
      ]
     },
     "execution_count": 37,
     "metadata": {},
     "output_type": "execute_result"
    }
   ],
   "source": [
    "log_solvers = {'F1_Score': {\n",
    "    'lbfgs': np.mean((log_cv_uni_lbfgs['Safe Tweet']['f1-score'],log_cv_uni_lbfgs['Disaster Tweet']['f1-score'])), \n",
    "    'saga': np.mean((log_cv_uni_saga['Safe Tweet']['f1-score'],log_cv_uni_saga['Disaster Tweet']['f1-score'])), \n",
    "    'liblinear': np.mean((log_cv_uni_lib['Safe Tweet']['f1-score'],log_cv_uni_lib['Disaster Tweet']['f1-score']))\n",
    "},\n",
    "               'Accuracy': {\n",
    "    'lbfgs': log_cv_uni_lbfgs['accuracy'], \n",
    "    'saga': log_cv_uni_saga['accuracy'], \n",
    "    'liblinear': log_cv_uni_lib['accuracy']\n",
    "               }}\n",
    "\n",
    "log_solvers_df = pd.DataFrame(log_solvers)\n",
    "log_solvers_df"
   ]
  },
  {
   "cell_type": "code",
   "execution_count": 39,
   "id": "7403dcd6",
   "metadata": {},
   "outputs": [
    {
     "data": {
      "image/png": "[encoded data removed]",
      "text/plain": [
       "<Figure size 1368x504 with 1 Axes>"
      ]
     },
     "metadata": {
      "needs_background": "light"
     },
     "output_type": "display_data"
    }
   ],
   "source": [
    "labels = list(log_solvers_df.index)\n",
    "f1_score = log_solvers_df.F1_Score.values\n",
    "accuracy = log_solvers_df.Accuracy.values\n",
    "\n",
    "x = np.arange(len(labels))  # the label locations\n",
    "width = 0.35  # the width of the bars\n",
    "\n",
    "fig, ax = plt.subplots(figsize = (19,7))\n",
    "\n",
    "rects1 = ax.barh(x - width/2, f1_score, width, label='F1 Score')\n",
    "rects2 = ax.barh(x + width/2, accuracy, width, label='Accuracy')\n",
    "\n",
    "ax.set_xlabel('Score')\n",
    "ax.set_title('LogisticRegression Solvers')\n",
    "ax.set_yticks(x)\n",
    "ax.set_yticklabels(labels)\n",
    "ax.legend(loc = (.05,.9))\n",
    "\n",
    "ax.bar_label(rects1, padding=3)\n",
    "ax.bar_label(rects2, padding=3)\n",
    "\n",
    "plt.show()"
   ]
  },
  {
   "cell_type": "code",
   "execution_count": 42,
   "id": "38e3a18d",
   "metadata": {},
   "outputs": [
    {
     "data": {
      "text/html": [
       "<div>\n",
       "<style scoped>\n",
       "    .dataframe tbody tr th:only-of-type {\n",
       "        vertical-align: middle;\n",
       "    }\n",
       "\n",
       "    .dataframe tbody tr th {\n",
       "        vertical-align: top;\n",
       "    }\n",
       "\n",
       "    .dataframe thead th {\n",
       "        text-align: right;\n",
       "    }\n",
       "</style>\n",
       "<table border=\"1\" class=\"dataframe\">\n",
       "  <thead>\n",
       "    <tr style=\"text-align: right;\">\n",
       "      <th></th>\n",
       "      <th>F1_Score</th>\n",
       "      <th>Accuracy</th>\n",
       "    </tr>\n",
       "  </thead>\n",
       "  <tbody>\n",
       "    <tr>\n",
       "      <th>LogReg</th>\n",
       "      <td>0.789920</td>\n",
       "      <td>0.802772</td>\n",
       "    </tr>\n",
       "    <tr>\n",
       "      <th>RandFor</th>\n",
       "      <td>0.780207</td>\n",
       "      <td>0.794776</td>\n",
       "    </tr>\n",
       "    <tr>\n",
       "      <th>SVM</th>\n",
       "      <td>0.784138</td>\n",
       "      <td>0.801173</td>\n",
       "    </tr>\n",
       "  </tbody>\n",
       "</table>\n",
       "</div>"
      ],
      "text/plain": [
       "         F1_Score  Accuracy\n",
       "LogReg   0.789920  0.802772\n",
       "RandFor  0.780207  0.794776\n",
       "SVM      0.784138  0.801173"
      ]
     },
     "execution_count": 42,
     "metadata": {},
     "output_type": "execute_result"
    }
   ],
   "source": [
    "algorithms = {'F1_Score': {\n",
    "    'LogReg': np.mean((log_cv_uni_saga['Safe Tweet']['f1-score'],log_cv_uni_saga['Disaster Tweet']['f1-score'])),\n",
    "    'RandFor': np.mean((rf_cv_uni['Safe Tweet']['f1-score'],rf_cv_uni['Disaster Tweet']['f1-score'])),  \n",
    "    'SVM': np.mean((sv_cv_uni['Safe Tweet']['f1-score'],sv_cv_uni['Disaster Tweet']['f1-score']))\n",
    "},\n",
    "               'Accuracy': {\n",
    "    'LogReg': log_cv_uni_saga['accuracy'], \n",
    "    'RandFor': rf_cv_uni['accuracy'], \n",
    "    'SVM': sv_cv_uni['accuracy']\n",
    "               }}\n",
    "\n",
    "algorithms_df = pd.DataFrame(algorithms)\n",
    "algorithms_df"
   ]
  },
  {
   "cell_type": "code",
   "execution_count": 44,
   "id": "b3a1899a",
   "metadata": {},
   "outputs": [
    {
     "data": {
      "image/png": "[encoded data removed]",
      "text/plain": [
       "<Figure size 1368x504 with 1 Axes>"
      ]
     },
     "metadata": {
      "needs_background": "light"
     },
     "output_type": "display_data"
    }
   ],
   "source": [
    "labels = list(algorithms_df.index)\n",
    "f1_score = algorithms_df.F1_Score.values\n",
    "accuracy = algorithms_df.Accuracy.values\n",
    "\n",
    "x = np.arange(len(labels))  # the label locations\n",
    "width = 0.35  # the width of the bars\n",
    "\n",
    "fig, ax = plt.subplots(figsize = (19,7))\n",
    "\n",
    "rects1 = ax.barh(x - width/2, f1_score, width, label='F1 Score')\n",
    "rects2 = ax.barh(x + width/2, accuracy, width, label='Accuracy')\n",
    "\n",
    "ax.set_xlabel('Score')\n",
    "ax.set_title('Score Comparison of Algorithms')\n",
    "ax.set_yticks(x)\n",
    "ax.set_yticklabels(labels)\n",
    "ax.legend(loc = (.05,.9))\n",
    "\n",
    "ax.bar_label(rects1, padding=3)\n",
    "ax.bar_label(rects2, padding=3)\n",
    "\n",
    "plt.show()"
   ]
  },
  {
   "cell_type": "code",
   "execution_count": null,
   "id": "67fb42ad",
   "metadata": {},
   "outputs": [],
   "source": []
  }
 ],
 "metadata": {
  "kernelspec": {
   "display_name": "Python 3 (ipykernel)",
   "language": "python",
   "name": "python3"
  },
  "language_info": {
   "codemirror_mode": {
    "name": "ipython",
    "version": 3
   },
   "file_extension": ".py",
   "mimetype": "text/x-python",
   "name": "python",
   "nbconvert_exporter": "python",
   "pygments_lexer": "ipython3",
   "version": "3.9.7"
  }
 },
 "nbformat": 4,
 "nbformat_minor": 5
}
