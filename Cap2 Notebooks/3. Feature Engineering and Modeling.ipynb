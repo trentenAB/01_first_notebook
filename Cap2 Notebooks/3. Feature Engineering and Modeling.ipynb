{
 "cells": [
  {
   "cell_type": "markdown",
   "id": "051fcf2d",
   "metadata": {},
   "source": [
    "# 3. Feature Engineering and Modeling"
   ]
  },
  {
   "cell_type": "code",
   "execution_count": 12,
   "id": "292ed528",
   "metadata": {},
   "outputs": [],
   "source": [
    "import pandas as pd\n",
    "import numpy as np\n",
    "import matplotlib.pyplot as plt\n",
    "import seaborn as sns\n",
    "from sklearn.model_selection import train_test_split, KFold, cross_val_score, GridSearchCV\n",
    "from sklearn.feature_extraction.text import CountVectorizer, TfidfVectorizer\n",
    "from sklearn.linear_model import LogisticRegression\n",
    "from sklearn.ensemble import RandomForestClassifier\n",
    "from sklearn.svm import SVC\n",
    "from sklearn.metrics import confusion_matrix, classification_report \n",
    "from sklearn.pipeline import Pipeline\n",
    "import nltk\n",
    "from nltk.corpus import reuters\n",
    "from nltk import bigrams, trigrams\n",
    "from collections import Counter, defaultdict"
   ]
  },
  {
   "cell_type": "code",
   "execution_count": 13,
   "id": "0ff5809c",
   "metadata": {},
   "outputs": [],
   "source": [
    "# Load Data\n",
    "tweets = pd.read_csv('CleanedDisasterTweets.csv')[['Text']].values.ravel()\n",
    "target = pd.read_csv('TargetDisasterTweets.csv')[['target']].values.ravel()\n",
    "\n",
    "# Train and Test sets\n",
    "tweets_train, tweets_test, target_train, target_test = train_test_split(tweets, target, random_state = 0)"
   ]
  },
  {
   "cell_type": "markdown",
   "id": "c18eb281",
   "metadata": {},
   "source": [
    "# CountVectorizer unigram Train features"
   ]
  },
  {
   "cell_type": "code",
   "execution_count": 14,
   "id": "a7f4f0d9",
   "metadata": {},
   "outputs": [
    {
     "data": {
      "text/html": [
       "<div>\n",
       "<style scoped>\n",
       "    .dataframe tbody tr th:only-of-type {\n",
       "        vertical-align: middle;\n",
       "    }\n",
       "\n",
       "    .dataframe tbody tr th {\n",
       "        vertical-align: top;\n",
       "    }\n",
       "\n",
       "    .dataframe thead th {\n",
       "        text-align: right;\n",
       "    }\n",
       "</style>\n",
       "<table border=\"1\" class=\"dataframe\">\n",
       "  <thead>\n",
       "    <tr style=\"text-align: right;\">\n",
       "      <th></th>\n",
       "      <th>aa</th>\n",
       "      <th>aaaa</th>\n",
       "      <th>aaaaaaallll</th>\n",
       "      <th>aaarrrgghhh</th>\n",
       "      <th>aaemiddleaged</th>\n",
       "      <th>aampb</th>\n",
       "      <th>aampw</th>\n",
       "      <th>aashiqui</th>\n",
       "      <th>ab</th>\n",
       "      <th>aba</th>\n",
       "      <th>...</th>\n",
       "      <th>zonewolf</th>\n",
       "      <th>zoom</th>\n",
       "      <th>zotar</th>\n",
       "      <th>zouma</th>\n",
       "      <th>zourryart</th>\n",
       "      <th>zss</th>\n",
       "      <th>zumiez</th>\n",
       "      <th>zurich</th>\n",
       "      <th>zxathetis</th>\n",
       "      <th>zzzz</th>\n",
       "    </tr>\n",
       "  </thead>\n",
       "  <tbody>\n",
       "    <tr>\n",
       "      <th>0</th>\n",
       "      <td>0</td>\n",
       "      <td>0</td>\n",
       "      <td>0</td>\n",
       "      <td>0</td>\n",
       "      <td>0</td>\n",
       "      <td>0</td>\n",
       "      <td>0</td>\n",
       "      <td>0</td>\n",
       "      <td>0</td>\n",
       "      <td>0</td>\n",
       "      <td>...</td>\n",
       "      <td>0</td>\n",
       "      <td>0</td>\n",
       "      <td>0</td>\n",
       "      <td>0</td>\n",
       "      <td>0</td>\n",
       "      <td>0</td>\n",
       "      <td>0</td>\n",
       "      <td>0</td>\n",
       "      <td>0</td>\n",
       "      <td>0</td>\n",
       "    </tr>\n",
       "    <tr>\n",
       "      <th>1</th>\n",
       "      <td>0</td>\n",
       "      <td>0</td>\n",
       "      <td>0</td>\n",
       "      <td>0</td>\n",
       "      <td>0</td>\n",
       "      <td>0</td>\n",
       "      <td>0</td>\n",
       "      <td>0</td>\n",
       "      <td>0</td>\n",
       "      <td>0</td>\n",
       "      <td>...</td>\n",
       "      <td>0</td>\n",
       "      <td>0</td>\n",
       "      <td>0</td>\n",
       "      <td>0</td>\n",
       "      <td>0</td>\n",
       "      <td>0</td>\n",
       "      <td>0</td>\n",
       "      <td>0</td>\n",
       "      <td>0</td>\n",
       "      <td>0</td>\n",
       "    </tr>\n",
       "    <tr>\n",
       "      <th>2</th>\n",
       "      <td>0</td>\n",
       "      <td>0</td>\n",
       "      <td>0</td>\n",
       "      <td>0</td>\n",
       "      <td>0</td>\n",
       "      <td>0</td>\n",
       "      <td>0</td>\n",
       "      <td>0</td>\n",
       "      <td>0</td>\n",
       "      <td>0</td>\n",
       "      <td>...</td>\n",
       "      <td>0</td>\n",
       "      <td>0</td>\n",
       "      <td>0</td>\n",
       "      <td>0</td>\n",
       "      <td>0</td>\n",
       "      <td>0</td>\n",
       "      <td>0</td>\n",
       "      <td>0</td>\n",
       "      <td>0</td>\n",
       "      <td>0</td>\n",
       "    </tr>\n",
       "    <tr>\n",
       "      <th>3</th>\n",
       "      <td>0</td>\n",
       "      <td>0</td>\n",
       "      <td>0</td>\n",
       "      <td>0</td>\n",
       "      <td>0</td>\n",
       "      <td>0</td>\n",
       "      <td>0</td>\n",
       "      <td>0</td>\n",
       "      <td>0</td>\n",
       "      <td>0</td>\n",
       "      <td>...</td>\n",
       "      <td>0</td>\n",
       "      <td>0</td>\n",
       "      <td>0</td>\n",
       "      <td>0</td>\n",
       "      <td>0</td>\n",
       "      <td>0</td>\n",
       "      <td>0</td>\n",
       "      <td>0</td>\n",
       "      <td>0</td>\n",
       "      <td>0</td>\n",
       "    </tr>\n",
       "    <tr>\n",
       "      <th>4</th>\n",
       "      <td>0</td>\n",
       "      <td>0</td>\n",
       "      <td>0</td>\n",
       "      <td>0</td>\n",
       "      <td>0</td>\n",
       "      <td>0</td>\n",
       "      <td>0</td>\n",
       "      <td>0</td>\n",
       "      <td>0</td>\n",
       "      <td>0</td>\n",
       "      <td>...</td>\n",
       "      <td>0</td>\n",
       "      <td>0</td>\n",
       "      <td>0</td>\n",
       "      <td>0</td>\n",
       "      <td>0</td>\n",
       "      <td>0</td>\n",
       "      <td>0</td>\n",
       "      <td>0</td>\n",
       "      <td>0</td>\n",
       "      <td>0</td>\n",
       "    </tr>\n",
       "  </tbody>\n",
       "</table>\n",
       "<p>5 rows × 17778 columns</p>\n",
       "</div>"
      ],
      "text/plain": [
       "   aa  aaaa  aaaaaaallll  aaarrrgghhh  aaemiddleaged  aampb  aampw  aashiqui  \\\n",
       "0   0     0            0            0              0      0      0         0   \n",
       "1   0     0            0            0              0      0      0         0   \n",
       "2   0     0            0            0              0      0      0         0   \n",
       "3   0     0            0            0              0      0      0         0   \n",
       "4   0     0            0            0              0      0      0         0   \n",
       "\n",
       "   ab  aba  ...  zonewolf  zoom  zotar  zouma  zourryart  zss  zumiez  zurich  \\\n",
       "0   0    0  ...         0     0      0      0          0    0       0       0   \n",
       "1   0    0  ...         0     0      0      0          0    0       0       0   \n",
       "2   0    0  ...         0     0      0      0          0    0       0       0   \n",
       "3   0    0  ...         0     0      0      0          0    0       0       0   \n",
       "4   0    0  ...         0     0      0      0          0    0       0       0   \n",
       "\n",
       "   zxathetis  zzzz  \n",
       "0          0     0  \n",
       "1          0     0  \n",
       "2          0     0  \n",
       "3          0     0  \n",
       "4          0     0  \n",
       "\n",
       "[5 rows x 17778 columns]"
      ]
     },
     "execution_count": 14,
     "metadata": {},
     "output_type": "execute_result"
    }
   ],
   "source": [
    "cv_uni = CountVectorizer(analyzer='word', strip_accents = 'ascii', ngram_range = (1,1))\n",
    "cv_uni_train =cv_uni.fit_transform(tweets_train)\n",
    "df_cv_train = pd.DataFrame(cv_uni_train.toarray(), columns=cv_uni.get_feature_names())\n",
    "df_cv_train.head()"
   ]
  },
  {
   "cell_type": "markdown",
   "id": "12a3e3e1",
   "metadata": {},
   "source": [
    "# TfidfVectorizer unigram Train features"
   ]
  },
  {
   "cell_type": "code",
   "execution_count": 15,
   "id": "4a30d54f",
   "metadata": {},
   "outputs": [
    {
     "data": {
      "text/html": [
       "<div>\n",
       "<style scoped>\n",
       "    .dataframe tbody tr th:only-of-type {\n",
       "        vertical-align: middle;\n",
       "    }\n",
       "\n",
       "    .dataframe tbody tr th {\n",
       "        vertical-align: top;\n",
       "    }\n",
       "\n",
       "    .dataframe thead th {\n",
       "        text-align: right;\n",
       "    }\n",
       "</style>\n",
       "<table border=\"1\" class=\"dataframe\">\n",
       "  <thead>\n",
       "    <tr style=\"text-align: right;\">\n",
       "      <th></th>\n",
       "      <th>aa</th>\n",
       "      <th>aaaa</th>\n",
       "      <th>aaaaaaallll</th>\n",
       "      <th>aaarrrgghhh</th>\n",
       "      <th>aaemiddleaged</th>\n",
       "      <th>aampb</th>\n",
       "      <th>aampw</th>\n",
       "      <th>aashiqui</th>\n",
       "      <th>ab</th>\n",
       "      <th>aba</th>\n",
       "      <th>...</th>\n",
       "      <th>zonewolf</th>\n",
       "      <th>zoom</th>\n",
       "      <th>zotar</th>\n",
       "      <th>zouma</th>\n",
       "      <th>zourryart</th>\n",
       "      <th>zss</th>\n",
       "      <th>zumiez</th>\n",
       "      <th>zurich</th>\n",
       "      <th>zxathetis</th>\n",
       "      <th>zzzz</th>\n",
       "    </tr>\n",
       "  </thead>\n",
       "  <tbody>\n",
       "    <tr>\n",
       "      <th>0</th>\n",
       "      <td>0.0</td>\n",
       "      <td>0.0</td>\n",
       "      <td>0.0</td>\n",
       "      <td>0.0</td>\n",
       "      <td>0.0</td>\n",
       "      <td>0.0</td>\n",
       "      <td>0.0</td>\n",
       "      <td>0.0</td>\n",
       "      <td>0.0</td>\n",
       "      <td>0.0</td>\n",
       "      <td>...</td>\n",
       "      <td>0.0</td>\n",
       "      <td>0.0</td>\n",
       "      <td>0.0</td>\n",
       "      <td>0.0</td>\n",
       "      <td>0.0</td>\n",
       "      <td>0.0</td>\n",
       "      <td>0.0</td>\n",
       "      <td>0.0</td>\n",
       "      <td>0.0</td>\n",
       "      <td>0.0</td>\n",
       "    </tr>\n",
       "    <tr>\n",
       "      <th>1</th>\n",
       "      <td>0.0</td>\n",
       "      <td>0.0</td>\n",
       "      <td>0.0</td>\n",
       "      <td>0.0</td>\n",
       "      <td>0.0</td>\n",
       "      <td>0.0</td>\n",
       "      <td>0.0</td>\n",
       "      <td>0.0</td>\n",
       "      <td>0.0</td>\n",
       "      <td>0.0</td>\n",
       "      <td>...</td>\n",
       "      <td>0.0</td>\n",
       "      <td>0.0</td>\n",
       "      <td>0.0</td>\n",
       "      <td>0.0</td>\n",
       "      <td>0.0</td>\n",
       "      <td>0.0</td>\n",
       "      <td>0.0</td>\n",
       "      <td>0.0</td>\n",
       "      <td>0.0</td>\n",
       "      <td>0.0</td>\n",
       "    </tr>\n",
       "    <tr>\n",
       "      <th>2</th>\n",
       "      <td>0.0</td>\n",
       "      <td>0.0</td>\n",
       "      <td>0.0</td>\n",
       "      <td>0.0</td>\n",
       "      <td>0.0</td>\n",
       "      <td>0.0</td>\n",
       "      <td>0.0</td>\n",
       "      <td>0.0</td>\n",
       "      <td>0.0</td>\n",
       "      <td>0.0</td>\n",
       "      <td>...</td>\n",
       "      <td>0.0</td>\n",
       "      <td>0.0</td>\n",
       "      <td>0.0</td>\n",
       "      <td>0.0</td>\n",
       "      <td>0.0</td>\n",
       "      <td>0.0</td>\n",
       "      <td>0.0</td>\n",
       "      <td>0.0</td>\n",
       "      <td>0.0</td>\n",
       "      <td>0.0</td>\n",
       "    </tr>\n",
       "    <tr>\n",
       "      <th>3</th>\n",
       "      <td>0.0</td>\n",
       "      <td>0.0</td>\n",
       "      <td>0.0</td>\n",
       "      <td>0.0</td>\n",
       "      <td>0.0</td>\n",
       "      <td>0.0</td>\n",
       "      <td>0.0</td>\n",
       "      <td>0.0</td>\n",
       "      <td>0.0</td>\n",
       "      <td>0.0</td>\n",
       "      <td>...</td>\n",
       "      <td>0.0</td>\n",
       "      <td>0.0</td>\n",
       "      <td>0.0</td>\n",
       "      <td>0.0</td>\n",
       "      <td>0.0</td>\n",
       "      <td>0.0</td>\n",
       "      <td>0.0</td>\n",
       "      <td>0.0</td>\n",
       "      <td>0.0</td>\n",
       "      <td>0.0</td>\n",
       "    </tr>\n",
       "    <tr>\n",
       "      <th>4</th>\n",
       "      <td>0.0</td>\n",
       "      <td>0.0</td>\n",
       "      <td>0.0</td>\n",
       "      <td>0.0</td>\n",
       "      <td>0.0</td>\n",
       "      <td>0.0</td>\n",
       "      <td>0.0</td>\n",
       "      <td>0.0</td>\n",
       "      <td>0.0</td>\n",
       "      <td>0.0</td>\n",
       "      <td>...</td>\n",
       "      <td>0.0</td>\n",
       "      <td>0.0</td>\n",
       "      <td>0.0</td>\n",
       "      <td>0.0</td>\n",
       "      <td>0.0</td>\n",
       "      <td>0.0</td>\n",
       "      <td>0.0</td>\n",
       "      <td>0.0</td>\n",
       "      <td>0.0</td>\n",
       "      <td>0.0</td>\n",
       "    </tr>\n",
       "  </tbody>\n",
       "</table>\n",
       "<p>5 rows × 17778 columns</p>\n",
       "</div>"
      ],
      "text/plain": [
       "    aa  aaaa  aaaaaaallll  aaarrrgghhh  aaemiddleaged  aampb  aampw  aashiqui  \\\n",
       "0  0.0   0.0          0.0          0.0            0.0    0.0    0.0       0.0   \n",
       "1  0.0   0.0          0.0          0.0            0.0    0.0    0.0       0.0   \n",
       "2  0.0   0.0          0.0          0.0            0.0    0.0    0.0       0.0   \n",
       "3  0.0   0.0          0.0          0.0            0.0    0.0    0.0       0.0   \n",
       "4  0.0   0.0          0.0          0.0            0.0    0.0    0.0       0.0   \n",
       "\n",
       "    ab  aba  ...  zonewolf  zoom  zotar  zouma  zourryart  zss  zumiez  \\\n",
       "0  0.0  0.0  ...       0.0   0.0    0.0    0.0        0.0  0.0     0.0   \n",
       "1  0.0  0.0  ...       0.0   0.0    0.0    0.0        0.0  0.0     0.0   \n",
       "2  0.0  0.0  ...       0.0   0.0    0.0    0.0        0.0  0.0     0.0   \n",
       "3  0.0  0.0  ...       0.0   0.0    0.0    0.0        0.0  0.0     0.0   \n",
       "4  0.0  0.0  ...       0.0   0.0    0.0    0.0        0.0  0.0     0.0   \n",
       "\n",
       "   zurich  zxathetis  zzzz  \n",
       "0     0.0        0.0   0.0  \n",
       "1     0.0        0.0   0.0  \n",
       "2     0.0        0.0   0.0  \n",
       "3     0.0        0.0   0.0  \n",
       "4     0.0        0.0   0.0  \n",
       "\n",
       "[5 rows x 17778 columns]"
      ]
     },
     "execution_count": 15,
     "metadata": {},
     "output_type": "execute_result"
    }
   ],
   "source": [
    "tfid_uni = TfidfVectorizer(sublinear_tf=True, strip_accents = 'ascii', ngram_range = (1,1))\n",
    "tfid_uni_train = tfid_uni.fit_transform(tweets_train)\n",
    "df_tfid_train = pd.DataFrame.sparse.from_spmatrix(tfid_uni_train, columns = tfid_uni.get_feature_names())\n",
    "df_tfid_train.head()"
   ]
  },
  {
   "cell_type": "markdown",
   "id": "409572b7",
   "metadata": {},
   "source": [
    "# Uni Test features"
   ]
  },
  {
   "cell_type": "code",
   "execution_count": 16,
   "id": "f74a6127",
   "metadata": {},
   "outputs": [],
   "source": [
    "cv_uni_test = cv_uni.transform(tweets_test)\n",
    "tfid_uni_test = tfid_uni.transform(tweets_test)"
   ]
  },
  {
   "cell_type": "code",
   "execution_count": 17,
   "id": "f4761428",
   "metadata": {},
   "outputs": [
    {
     "name": "stdout",
     "output_type": "stream",
     "text": [
      "CountVectorizer Train features shape: (5627, 17778) | TfidVectorizer Train features shape: (5627, 17778) \n",
      "CountVectorizer Test features shape:  (1876, 17778) | TfidVectorizer Test features shape:  (1876, 17778)\n"
     ]
    }
   ],
   "source": [
    "print('CountVectorizer Train features shape:', cv_uni_train.shape, '| TfidVectorizer Train features shape:', tfid_uni_train.shape, \n",
    "      '\\nCountVectorizer Test features shape: ', cv_uni_test.shape, '| TfidVectorizer Test features shape: ', tfid_uni_test.shape)"
   ]
  },
  {
   "cell_type": "markdown",
   "id": "8c162663",
   "metadata": {},
   "source": [
    "# Bi features"
   ]
  },
  {
   "cell_type": "code",
   "execution_count": 18,
   "id": "18d17209",
   "metadata": {},
   "outputs": [
    {
     "name": "stdout",
     "output_type": "stream",
     "text": [
      "CountVectorizer Train features shape: (5627, 42035) | TfidVectorizer Train features shape: (5627, 42035) \n",
      "CountVectorizer Test features shape:  (1876, 42035) | TfidVectorizer Test features shape:  (1876, 42035)\n"
     ]
    }
   ],
   "source": [
    "# CountVectorizer bigram features\n",
    "cv_bi =CountVectorizer(analyzer='word', strip_accents = 'ascii', ngram_range = (2,2))\n",
    "cv_bi_train =cv_bi.fit_transform(tweets_train)\n",
    "cv_bi_test = cv_bi.transform(tweets_test)\n",
    "\n",
    "# TfidfVectorizer bigram features\n",
    "tfid_bi = TfidfVectorizer(sublinear_tf=True, strip_accents = 'ascii', ngram_range = (2,2))\n",
    "tfid_bi_train = tfid_bi.fit_transform(tweets_train)\n",
    "tfid_bi_test = tfid_bi.transform(tweets_test)\n",
    "\n",
    "print('CountVectorizer Train features shape:', cv_bi_train.shape, '| TfidVectorizer Train features shape:', tfid_bi_train.shape, \n",
    "      '\\nCountVectorizer Test features shape: ', cv_bi_test.shape, '| TfidVectorizer Test features shape: ', tfid_bi_test.shape)"
   ]
  },
  {
   "cell_type": "markdown",
   "id": "b92781fb",
   "metadata": {},
   "source": [
    "# Uni and Bi features"
   ]
  },
  {
   "cell_type": "code",
   "execution_count": 19,
   "id": "46669fde",
   "metadata": {},
   "outputs": [
    {
     "name": "stdout",
     "output_type": "stream",
     "text": [
      "CountVectorizer Train features shape: (5627, 59813) | TfidVectorizer Train features shape: (5627, 59813) \n",
      "CountVectorizer Test features shape:  (1876, 59813) | TfidVectorizer Test features shape:  (1876, 59813)\n"
     ]
    }
   ],
   "source": [
    "# CountVectorizer Uni and Bi features\n",
    "cv_uni_bi = CountVectorizer(analyzer='word', strip_accents = 'ascii', ngram_range = (1,2))\n",
    "cv_uni_bi_train = cv_uni_bi.fit_transform(tweets_train)\n",
    "cv_uni_bi_test = cv_uni_bi.transform(tweets_test)\n",
    "\n",
    "# TfidVectorizer Uni and Bi features\n",
    "tfid_uni_bi = TfidfVectorizer(sublinear_tf=True, strip_accents = 'ascii', ngram_range = (1,2))\n",
    "tfid_uni_bi_train = tfid_uni_bi.fit_transform(tweets_train)\n",
    "tfid_uni_bi_test = tfid_uni_bi.transform(tweets_test)\n",
    "\n",
    "print('CountVectorizer Train features shape:', cv_uni_bi_train.shape, '| TfidVectorizer Train features shape:', tfid_uni_bi_train.shape, \n",
    "      '\\nCountVectorizer Test features shape: ', cv_uni_bi_test.shape, '| TfidVectorizer Test features shape: ', tfid_uni_bi_test.shape)"
   ]
  },
  {
   "cell_type": "markdown",
   "id": "bf0e62d5",
   "metadata": {},
   "source": [
    "# Full GridSearchCV "
   ]
  },
  {
   "cell_type": "code",
   "execution_count": 20,
   "id": "1b97f074",
   "metadata": {},
   "outputs": [],
   "source": [
    "# steps = [('cv', CountVectorizer()), \n",
    "#          ('log', LogisticRegression(random_state = 0))]\n",
    "\n",
    "# pipe = Pipeline(steps)\n",
    "\n",
    "# params = {'cv__strip_accents':['ascii', 'unicode'],\n",
    "#           'cv__ngram_range':[(1,1), (1,2)],\n",
    "#           'log__solver':['newton-cg', 'lbfgs', 'liblinear', 'sag', 'saga'],\n",
    "#           'log__C':np.logspace(-2, 2, 50)}\n",
    "\n",
    "# gs = GridSearchCV(pipe, params, cv=5).fit(tweets_train, target_train)\n",
    "# gs.best_params_\n",
    "# best_logreg_c = gs.best_params_['log__C']\n",
    "# best_logreg_score = gs.best_score_\n",
    "\n",
    "# print('Best C param:', best_logreg_c, '\\nBest score:', best_logreg_score)\n",
    "\n",
    "# output for best_params_: 'ascii', (1,1), 'saga', 0.20235896477251566, "
   ]
  },
  {
   "cell_type": "markdown",
   "id": "9670ce0d",
   "metadata": {},
   "source": [
    "# LogisticRegression with CountVectorizer features "
   ]
  },
  {
   "cell_type": "code",
   "execution_count": 21,
   "id": "3939e469",
   "metadata": {
    "scrolled": true
   },
   "outputs": [
    {
     "name": "stdout",
     "output_type": "stream",
     "text": [
      "                precision    recall  f1-score   support\n",
      "\n",
      "    Safe Tweet       0.79      0.90      0.84      1092\n",
      "Disaster Tweet       0.83      0.66      0.74       784\n",
      "\n",
      "      accuracy                           0.80      1876\n",
      "     macro avg       0.81      0.78      0.79      1876\n",
      "  weighted avg       0.81      0.80      0.80      1876\n",
      "\n"
     ]
    },
    {
     "data": {
      "text/html": [
       "<div>\n",
       "<style scoped>\n",
       "    .dataframe tbody tr th:only-of-type {\n",
       "        vertical-align: middle;\n",
       "    }\n",
       "\n",
       "    .dataframe tbody tr th {\n",
       "        vertical-align: top;\n",
       "    }\n",
       "\n",
       "    .dataframe thead th {\n",
       "        text-align: right;\n",
       "    }\n",
       "</style>\n",
       "<table border=\"1\" class=\"dataframe\">\n",
       "  <thead>\n",
       "    <tr style=\"text-align: right;\">\n",
       "      <th></th>\n",
       "      <th>Safe Tweet</th>\n",
       "      <th>Disaster Tweet</th>\n",
       "    </tr>\n",
       "  </thead>\n",
       "  <tbody>\n",
       "    <tr>\n",
       "      <th>Safe Tweet</th>\n",
       "      <td>987</td>\n",
       "      <td>105</td>\n",
       "    </tr>\n",
       "    <tr>\n",
       "      <th>Disaster Tweet</th>\n",
       "      <td>265</td>\n",
       "      <td>519</td>\n",
       "    </tr>\n",
       "  </tbody>\n",
       "</table>\n",
       "</div>"
      ],
      "text/plain": [
       "                Safe Tweet  Disaster Tweet\n",
       "Safe Tweet             987             105\n",
       "Disaster Tweet         265             519"
      ]
     },
     "execution_count": 21,
     "metadata": {},
     "output_type": "execute_result"
    }
   ],
   "source": [
    "# Uni features, liblinear\n",
    "max_c = 0.20235896477251566\n",
    "log = LogisticRegression(solver = 'liblinear', C = max_c, random_state = 0)\n",
    "log.fit(cv_uni_train, target_train)\n",
    "log_cv_uni_prediction = log.predict(cv_uni_test)\n",
    "labels = ['Safe Tweet', 'Disaster Tweet']\n",
    "print(classification_report(target_test, log_cv_uni_prediction, target_names = labels))\n",
    "pd.DataFrame(confusion_matrix(target_test, log_cv_uni_prediction), index=labels, columns=labels)"
   ]
  },
  {
   "cell_type": "code",
   "execution_count": 22,
   "id": "92a80dc4",
   "metadata": {
    "scrolled": true
   },
   "outputs": [
    {
     "name": "stdout",
     "output_type": "stream",
     "text": [
      "                precision    recall  f1-score   support\n",
      "\n",
      "    Safe Tweet       0.79      0.90      0.84      1092\n",
      "Disaster Tweet       0.83      0.66      0.74       784\n",
      "\n",
      "      accuracy                           0.80      1876\n",
      "     macro avg       0.81      0.78      0.79      1876\n",
      "  weighted avg       0.81      0.80      0.80      1876\n",
      "\n"
     ]
    },
    {
     "data": {
      "text/html": [
       "<div>\n",
       "<style scoped>\n",
       "    .dataframe tbody tr th:only-of-type {\n",
       "        vertical-align: middle;\n",
       "    }\n",
       "\n",
       "    .dataframe tbody tr th {\n",
       "        vertical-align: top;\n",
       "    }\n",
       "\n",
       "    .dataframe thead th {\n",
       "        text-align: right;\n",
       "    }\n",
       "</style>\n",
       "<table border=\"1\" class=\"dataframe\">\n",
       "  <thead>\n",
       "    <tr style=\"text-align: right;\">\n",
       "      <th></th>\n",
       "      <th>Safe Tweet</th>\n",
       "      <th>Disaster Tweet</th>\n",
       "    </tr>\n",
       "  </thead>\n",
       "  <tbody>\n",
       "    <tr>\n",
       "      <th>Safe Tweet</th>\n",
       "      <td>985</td>\n",
       "      <td>107</td>\n",
       "    </tr>\n",
       "    <tr>\n",
       "      <th>Disaster Tweet</th>\n",
       "      <td>263</td>\n",
       "      <td>521</td>\n",
       "    </tr>\n",
       "  </tbody>\n",
       "</table>\n",
       "</div>"
      ],
      "text/plain": [
       "                Safe Tweet  Disaster Tweet\n",
       "Safe Tweet             985             107\n",
       "Disaster Tweet         263             521"
      ]
     },
     "execution_count": 22,
     "metadata": {},
     "output_type": "execute_result"
    }
   ],
   "source": [
    "# Uni features, saga\n",
    "log_saga = LogisticRegression(solver = 'saga', C = max_c, random_state = 0)\n",
    "log_saga.fit(cv_uni_train, target_train)\n",
    "log_cv_uni_saga_prediction = log_saga.predict(cv_uni_test)\n",
    "labels = ['Safe Tweet', 'Disaster Tweet']\n",
    "print(classification_report(target_test, log_cv_uni_saga_prediction, target_names = labels))\n",
    "pd.DataFrame(confusion_matrix(target_test, log_cv_uni_saga_prediction), index=labels, columns=labels)"
   ]
  },
  {
   "cell_type": "code",
   "execution_count": 23,
   "id": "1e74040b",
   "metadata": {},
   "outputs": [
    {
     "name": "stdout",
     "output_type": "stream",
     "text": [
      "                precision    recall  f1-score   support\n",
      "\n",
      "    Safe Tweet       0.79      0.90      0.84      1092\n",
      "Disaster Tweet       0.83      0.66      0.74       784\n",
      "\n",
      "      accuracy                           0.80      1876\n",
      "     macro avg       0.81      0.78      0.79      1876\n",
      "  weighted avg       0.81      0.80      0.80      1876\n",
      "\n"
     ]
    },
    {
     "data": {
      "text/html": [
       "<div>\n",
       "<style scoped>\n",
       "    .dataframe tbody tr th:only-of-type {\n",
       "        vertical-align: middle;\n",
       "    }\n",
       "\n",
       "    .dataframe tbody tr th {\n",
       "        vertical-align: top;\n",
       "    }\n",
       "\n",
       "    .dataframe thead th {\n",
       "        text-align: right;\n",
       "    }\n",
       "</style>\n",
       "<table border=\"1\" class=\"dataframe\">\n",
       "  <thead>\n",
       "    <tr style=\"text-align: right;\">\n",
       "      <th></th>\n",
       "      <th>Safe Tweet</th>\n",
       "      <th>Disaster Tweet</th>\n",
       "    </tr>\n",
       "  </thead>\n",
       "  <tbody>\n",
       "    <tr>\n",
       "      <th>Safe Tweet</th>\n",
       "      <td>987</td>\n",
       "      <td>105</td>\n",
       "    </tr>\n",
       "    <tr>\n",
       "      <th>Disaster Tweet</th>\n",
       "      <td>265</td>\n",
       "      <td>519</td>\n",
       "    </tr>\n",
       "  </tbody>\n",
       "</table>\n",
       "</div>"
      ],
      "text/plain": [
       "                Safe Tweet  Disaster Tweet\n",
       "Safe Tweet             987             105\n",
       "Disaster Tweet         265             519"
      ]
     },
     "execution_count": 23,
     "metadata": {},
     "output_type": "execute_result"
    }
   ],
   "source": [
    "log_saga = LogisticRegression(solver = 'lbfgs', C = max_c, random_state = 0)\n",
    "log_saga.fit(cv_uni_train, target_train)\n",
    "log_cv_uni_saga_prediction = log_saga.predict(cv_uni_test)\n",
    "labels = ['Safe Tweet', 'Disaster Tweet']\n",
    "print(classification_report(target_test, log_cv_uni_saga_prediction, target_names = labels))\n",
    "pd.DataFrame(confusion_matrix(target_test, log_cv_uni_saga_prediction), index=labels, columns=labels)"
   ]
  },
  {
   "cell_type": "code",
   "execution_count": 24,
   "id": "ebbb9b2e",
   "metadata": {},
   "outputs": [
    {
     "name": "stdout",
     "output_type": "stream",
     "text": [
      "                precision    recall  f1-score   support\n",
      "\n",
      "    Safe Tweet       0.78      0.92      0.84      1092\n",
      "Disaster Tweet       0.85      0.64      0.73       784\n",
      "\n",
      "      accuracy                           0.80      1876\n",
      "     macro avg       0.82      0.78      0.79      1876\n",
      "  weighted avg       0.81      0.80      0.80      1876\n",
      "\n"
     ]
    },
    {
     "data": {
      "text/html": [
       "<div>\n",
       "<style scoped>\n",
       "    .dataframe tbody tr th:only-of-type {\n",
       "        vertical-align: middle;\n",
       "    }\n",
       "\n",
       "    .dataframe tbody tr th {\n",
       "        vertical-align: top;\n",
       "    }\n",
       "\n",
       "    .dataframe thead th {\n",
       "        text-align: right;\n",
       "    }\n",
       "</style>\n",
       "<table border=\"1\" class=\"dataframe\">\n",
       "  <thead>\n",
       "    <tr style=\"text-align: right;\">\n",
       "      <th></th>\n",
       "      <th>Safe Tweet</th>\n",
       "      <th>Disaster Tweet</th>\n",
       "    </tr>\n",
       "  </thead>\n",
       "  <tbody>\n",
       "    <tr>\n",
       "      <th>Safe Tweet</th>\n",
       "      <td>1007</td>\n",
       "      <td>85</td>\n",
       "    </tr>\n",
       "    <tr>\n",
       "      <th>Disaster Tweet</th>\n",
       "      <td>286</td>\n",
       "      <td>498</td>\n",
       "    </tr>\n",
       "  </tbody>\n",
       "</table>\n",
       "</div>"
      ],
      "text/plain": [
       "                Safe Tweet  Disaster Tweet\n",
       "Safe Tweet            1007              85\n",
       "Disaster Tweet         286             498"
      ]
     },
     "execution_count": 24,
     "metadata": {},
     "output_type": "execute_result"
    }
   ],
   "source": [
    "# Uni and Bi features\n",
    "log = LogisticRegression(solver = 'liblinear', C = max_c, random_state = 0).fit(cv_uni_bi_train, target_train)\n",
    "log_cv_uni_bi_prediction = log.predict(cv_uni_bi_test)\n",
    "labels = ['Safe Tweet', 'Disaster Tweet']\n",
    "print(classification_report(target_test, log_cv_uni_bi_prediction, target_names = labels))\n",
    "pd.DataFrame(confusion_matrix(target_test, log_cv_uni_bi_prediction), index=labels, columns=labels)"
   ]
  },
  {
   "cell_type": "code",
   "execution_count": 25,
   "id": "45be323c",
   "metadata": {
    "scrolled": true
   },
   "outputs": [
    {
     "name": "stdout",
     "output_type": "stream",
     "text": [
      "                precision    recall  f1-score   support\n",
      "\n",
      "    Safe Tweet       0.68      0.98      0.80      1092\n",
      "Disaster Tweet       0.92      0.36      0.52       784\n",
      "\n",
      "      accuracy                           0.72      1876\n",
      "     macro avg       0.80      0.67      0.66      1876\n",
      "  weighted avg       0.78      0.72      0.69      1876\n",
      "\n"
     ]
    },
    {
     "data": {
      "text/html": [
       "<div>\n",
       "<style scoped>\n",
       "    .dataframe tbody tr th:only-of-type {\n",
       "        vertical-align: middle;\n",
       "    }\n",
       "\n",
       "    .dataframe tbody tr th {\n",
       "        vertical-align: top;\n",
       "    }\n",
       "\n",
       "    .dataframe thead th {\n",
       "        text-align: right;\n",
       "    }\n",
       "</style>\n",
       "<table border=\"1\" class=\"dataframe\">\n",
       "  <thead>\n",
       "    <tr style=\"text-align: right;\">\n",
       "      <th></th>\n",
       "      <th>Safe Tweet</th>\n",
       "      <th>Disaster Tweet</th>\n",
       "    </tr>\n",
       "  </thead>\n",
       "  <tbody>\n",
       "    <tr>\n",
       "      <th>Safe Tweet</th>\n",
       "      <td>1067</td>\n",
       "      <td>25</td>\n",
       "    </tr>\n",
       "    <tr>\n",
       "      <th>Disaster Tweet</th>\n",
       "      <td>499</td>\n",
       "      <td>285</td>\n",
       "    </tr>\n",
       "  </tbody>\n",
       "</table>\n",
       "</div>"
      ],
      "text/plain": [
       "                Safe Tweet  Disaster Tweet\n",
       "Safe Tweet            1067              25\n",
       "Disaster Tweet         499             285"
      ]
     },
     "execution_count": 25,
     "metadata": {},
     "output_type": "execute_result"
    }
   ],
   "source": [
    "# Bi features\n",
    "log = LogisticRegression(solver = 'liblinear', C = max_c, random_state = 0)\n",
    "log.fit(cv_bi_train, target_train)\n",
    "log_cv_bi_prediction = log.predict(cv_bi_test)\n",
    "labels = ['Safe Tweet', 'Disaster Tweet']\n",
    "print(classification_report(target_test, log_cv_bi_prediction, target_names = labels))\n",
    "pd.DataFrame(confusion_matrix(target_test, log_cv_bi_prediction), index=labels, columns=labels)"
   ]
  },
  {
   "cell_type": "markdown",
   "id": "8f3df95c",
   "metadata": {},
   "source": [
    "Only vectorizing bigrams clearly is the worst of the three given the detection of Disaster Tweets is the lowest with an F1 score of 0.52 "
   ]
  },
  {
   "cell_type": "markdown",
   "id": "c2e22ed4",
   "metadata": {},
   "source": [
    "# LogisticRegression with TfidVectorizer features"
   ]
  },
  {
   "cell_type": "code",
   "execution_count": 11,
   "id": "ced255dd",
   "metadata": {},
   "outputs": [
    {
     "name": "stdout",
     "output_type": "stream",
     "text": [
      "              precision    recall  f1-score   support\n",
      "\n",
      "           0       0.79      0.91      0.84      1092\n",
      "           1       0.84      0.66      0.74       784\n",
      "\n",
      "    accuracy                           0.80      1876\n",
      "   macro avg       0.81      0.78      0.79      1876\n",
      "weighted avg       0.81      0.80      0.80      1876\n",
      "\n"
     ]
    },
    {
     "data": {
      "text/html": [
       "<div>\n",
       "<style scoped>\n",
       "    .dataframe tbody tr th:only-of-type {\n",
       "        vertical-align: middle;\n",
       "    }\n",
       "\n",
       "    .dataframe tbody tr th {\n",
       "        vertical-align: top;\n",
       "    }\n",
       "\n",
       "    .dataframe thead th {\n",
       "        text-align: right;\n",
       "    }\n",
       "</style>\n",
       "<table border=\"1\" class=\"dataframe\">\n",
       "  <thead>\n",
       "    <tr style=\"text-align: right;\">\n",
       "      <th></th>\n",
       "      <th>negative</th>\n",
       "      <th>positive</th>\n",
       "    </tr>\n",
       "  </thead>\n",
       "  <tbody>\n",
       "    <tr>\n",
       "      <th>negative</th>\n",
       "      <td>992</td>\n",
       "      <td>100</td>\n",
       "    </tr>\n",
       "    <tr>\n",
       "      <th>positive</th>\n",
       "      <td>268</td>\n",
       "      <td>516</td>\n",
       "    </tr>\n",
       "  </tbody>\n",
       "</table>\n",
       "</div>"
      ],
      "text/plain": [
       "          negative  positive\n",
       "negative       992       100\n",
       "positive       268       516"
      ]
     },
     "execution_count": 11,
     "metadata": {},
     "output_type": "execute_result"
    }
   ],
   "source": [
    "# Uni features\n",
    "log = LogisticRegression(solver = 'liblinear', C = max_c, random_state = 0).fit(tfid_uni_train, target_train)\n",
    "log_tfid_uni_prediction = log.predict(tfid_uni_test)\n",
    "\n",
    "labels = ['Safe Tweet', 'Disaster Tweet']\n",
    "print(classification_report(target_test, log_tfid_uni_prediction, target_names = labels))\n",
    "pd.DataFrame(confusion_matrix(target_test, log_tfid_uni_prediction), index=labels, columns=labels)"
   ]
  },
  {
   "cell_type": "code",
   "execution_count": 17,
   "id": "68078c6d",
   "metadata": {},
   "outputs": [
    {
     "name": "stdout",
     "output_type": "stream",
     "text": [
      "              precision    recall  f1-score   support\n",
      "\n",
      "           0       0.78      0.92      0.84      1092\n",
      "           1       0.85      0.64      0.73       784\n",
      "\n",
      "    accuracy                           0.80      1876\n",
      "   macro avg       0.81      0.78      0.79      1876\n",
      "weighted avg       0.81      0.80      0.79      1876\n",
      "\n"
     ]
    },
    {
     "data": {
      "text/html": [
       "<div>\n",
       "<style scoped>\n",
       "    .dataframe tbody tr th:only-of-type {\n",
       "        vertical-align: middle;\n",
       "    }\n",
       "\n",
       "    .dataframe tbody tr th {\n",
       "        vertical-align: top;\n",
       "    }\n",
       "\n",
       "    .dataframe thead th {\n",
       "        text-align: right;\n",
       "    }\n",
       "</style>\n",
       "<table border=\"1\" class=\"dataframe\">\n",
       "  <thead>\n",
       "    <tr style=\"text-align: right;\">\n",
       "      <th></th>\n",
       "      <th>negative</th>\n",
       "      <th>positive</th>\n",
       "    </tr>\n",
       "  </thead>\n",
       "  <tbody>\n",
       "    <tr>\n",
       "      <th>negative</th>\n",
       "      <td>1001</td>\n",
       "      <td>91</td>\n",
       "    </tr>\n",
       "    <tr>\n",
       "      <th>positive</th>\n",
       "      <td>283</td>\n",
       "      <td>501</td>\n",
       "    </tr>\n",
       "  </tbody>\n",
       "</table>\n",
       "</div>"
      ],
      "text/plain": [
       "          negative  positive\n",
       "negative      1001        91\n",
       "positive       283       501"
      ]
     },
     "execution_count": 17,
     "metadata": {},
     "output_type": "execute_result"
    }
   ],
   "source": [
    "# Uni and Bi\n",
    "log = LogisticRegression(solver = 'liblinear', C = max_c, random_state = 0)\n",
    "\n",
    "log.fit(tfid_uni_bi_train, target_train)\n",
    "log_tfid_uni_bi_prediction = log.predict(tfid_uni_bi_test)\n",
    "\n",
    "labels = ['Safe Tweet', 'Disaster Tweet']\n",
    "print(classification_report(target_test, log_tfid_uni_bi_prediction, target_names = labels))\n",
    "pd.DataFrame(confusion_matrix(target_test, log_tfid_uni_bi_prediction), index=labels, columns=labels)"
   ]
  },
  {
   "cell_type": "code",
   "execution_count": 22,
   "id": "cbe07878",
   "metadata": {},
   "outputs": [
    {
     "name": "stdout",
     "output_type": "stream",
     "text": [
      "              precision    recall  f1-score   support\n",
      "\n",
      "           0       0.70      0.97      0.81      1092\n",
      "           1       0.91      0.41      0.56       784\n",
      "\n",
      "    accuracy                           0.74      1876\n",
      "   macro avg       0.80      0.69      0.69      1876\n",
      "weighted avg       0.78      0.74      0.71      1876\n",
      "\n"
     ]
    },
    {
     "data": {
      "text/html": [
       "<div>\n",
       "<style scoped>\n",
       "    .dataframe tbody tr th:only-of-type {\n",
       "        vertical-align: middle;\n",
       "    }\n",
       "\n",
       "    .dataframe tbody tr th {\n",
       "        vertical-align: top;\n",
       "    }\n",
       "\n",
       "    .dataframe thead th {\n",
       "        text-align: right;\n",
       "    }\n",
       "</style>\n",
       "<table border=\"1\" class=\"dataframe\">\n",
       "  <thead>\n",
       "    <tr style=\"text-align: right;\">\n",
       "      <th></th>\n",
       "      <th>negative</th>\n",
       "      <th>positive</th>\n",
       "    </tr>\n",
       "  </thead>\n",
       "  <tbody>\n",
       "    <tr>\n",
       "      <th>negative</th>\n",
       "      <td>1060</td>\n",
       "      <td>32</td>\n",
       "    </tr>\n",
       "    <tr>\n",
       "      <th>positive</th>\n",
       "      <td>464</td>\n",
       "      <td>320</td>\n",
       "    </tr>\n",
       "  </tbody>\n",
       "</table>\n",
       "</div>"
      ],
      "text/plain": [
       "          negative  positive\n",
       "negative      1060        32\n",
       "positive       464       320"
      ]
     },
     "execution_count": 22,
     "metadata": {},
     "output_type": "execute_result"
    }
   ],
   "source": [
    "# Bi features\n",
    "log = LogisticRegression(solver = 'liblinear', C = max_c, random_state = 0)\n",
    "log.fit(tfid_bi_train, target_train)\n",
    "log_tfid_bi_prediction = log.predict(tfid_bi_test)\n",
    "labels = ['Safe Tweet', 'Disaster Tweet']\n",
    "print(classification_report(target_test, log_tfid_bi_prediction, target_names = labels))\n",
    "pd.DataFrame(confusion_matrix(target_test, log_tfid_bi_prediction), index=labels, columns=labels)"
   ]
  },
  {
   "cell_type": "markdown",
   "id": "69db7058",
   "metadata": {},
   "source": [
    "# RandomForest "
   ]
  },
  {
   "cell_type": "code",
   "execution_count": 26,
   "id": "fb122df1",
   "metadata": {},
   "outputs": [
    {
     "data": {
      "text/plain": [
       "{'rf__n_estimators': 193}"
      ]
     },
     "execution_count": 26,
     "metadata": {},
     "output_type": "execute_result"
    }
   ],
   "source": [
    "# steps = [('cv', CountVectorizer(strip_accents = 'ascii', ngram_range=(1,2))), \n",
    "#          ('rf', RandomForestClassifier(n_jobs = -1, random_state = 0))]\n",
    "\n",
    "# pipe = Pipeline(steps)\n",
    "\n",
    "# params = {'rf__n_estimators':list(range(100, 201))}\n",
    "\n",
    "# gs = GridSearchCV(pipe, params, cv=5).fit(tweets_train, target_train)\n",
    "\n",
    "# gs.best_params_ results with n_estimators = 193"
   ]
  },
  {
   "cell_type": "code",
   "execution_count": 33,
   "id": "cbb5f412",
   "metadata": {},
   "outputs": [
    {
     "data": {
      "text/plain": [
       "{'n_estimators': 199}"
      ]
     },
     "execution_count": 33,
     "metadata": {},
     "output_type": "execute_result"
    }
   ],
   "source": [
    "rf = RandomForestClassifier(n_jobs = -1, random_state = 0)\n",
    "\n",
    "params = {'n_estimators':list(range(186, 201))}\n",
    "\n",
    "gs = GridSearchCV(rf, params, cv=5).fit(cv_uni_train, target_train)\n",
    "gs.best_params_"
   ]
  },
  {
   "cell_type": "code",
   "execution_count": 47,
   "id": "2a00ccaa",
   "metadata": {},
   "outputs": [
    {
     "name": "stdout",
     "output_type": "stream",
     "text": [
      "              precision    recall  f1-score   support\n",
      "\n",
      "           0       0.78      0.91      0.84      1092\n",
      "           1       0.83      0.64      0.72       784\n",
      "\n",
      "    accuracy                           0.80      1876\n",
      "   macro avg       0.81      0.77      0.78      1876\n",
      "weighted avg       0.80      0.80      0.79      1876\n",
      "\n"
     ]
    },
    {
     "data": {
      "text/html": [
       "<div>\n",
       "<style scoped>\n",
       "    .dataframe tbody tr th:only-of-type {\n",
       "        vertical-align: middle;\n",
       "    }\n",
       "\n",
       "    .dataframe tbody tr th {\n",
       "        vertical-align: top;\n",
       "    }\n",
       "\n",
       "    .dataframe thead th {\n",
       "        text-align: right;\n",
       "    }\n",
       "</style>\n",
       "<table border=\"1\" class=\"dataframe\">\n",
       "  <thead>\n",
       "    <tr style=\"text-align: right;\">\n",
       "      <th></th>\n",
       "      <th>negative</th>\n",
       "      <th>positive</th>\n",
       "    </tr>\n",
       "  </thead>\n",
       "  <tbody>\n",
       "    <tr>\n",
       "      <th>negative</th>\n",
       "      <td>990</td>\n",
       "      <td>102</td>\n",
       "    </tr>\n",
       "    <tr>\n",
       "      <th>positive</th>\n",
       "      <td>281</td>\n",
       "      <td>503</td>\n",
       "    </tr>\n",
       "  </tbody>\n",
       "</table>\n",
       "</div>"
      ],
      "text/plain": [
       "          negative  positive\n",
       "negative       990       102\n",
       "positive       281       503"
      ]
     },
     "execution_count": 47,
     "metadata": {},
     "output_type": "execute_result"
    }
   ],
   "source": [
    "# CountVectorizer uni features\n",
    "rf = RandomForestClassifier(n_estimators = 199, n_jobs = -1, random_state = 0).fit(cv_uni_train, target_train)\n",
    "rf_predict = rf.predict(cv_uni_test)\n",
    "\n",
    "labels = ['Safe Tweet', 'Disaster Tweet']\n",
    "print(classification_report(target_test, rf_predict, target_names = labels))\n",
    "pd.DataFrame(confusion_matrix(target_test, rf_predict), index=labels, columns=labels)"
   ]
  },
  {
   "cell_type": "code",
   "execution_count": 48,
   "id": "c0346a53",
   "metadata": {},
   "outputs": [
    {
     "name": "stdout",
     "output_type": "stream",
     "text": [
      "              precision    recall  f1-score   support\n",
      "\n",
      "           0       0.76      0.93      0.84      1092\n",
      "           1       0.87      0.59      0.70       784\n",
      "\n",
      "    accuracy                           0.79      1876\n",
      "   macro avg       0.81      0.76      0.77      1876\n",
      "weighted avg       0.81      0.79      0.78      1876\n",
      "\n"
     ]
    },
    {
     "data": {
      "text/html": [
       "<div>\n",
       "<style scoped>\n",
       "    .dataframe tbody tr th:only-of-type {\n",
       "        vertical-align: middle;\n",
       "    }\n",
       "\n",
       "    .dataframe tbody tr th {\n",
       "        vertical-align: top;\n",
       "    }\n",
       "\n",
       "    .dataframe thead th {\n",
       "        text-align: right;\n",
       "    }\n",
       "</style>\n",
       "<table border=\"1\" class=\"dataframe\">\n",
       "  <thead>\n",
       "    <tr style=\"text-align: right;\">\n",
       "      <th></th>\n",
       "      <th>negative</th>\n",
       "      <th>positive</th>\n",
       "    </tr>\n",
       "  </thead>\n",
       "  <tbody>\n",
       "    <tr>\n",
       "      <th>negative</th>\n",
       "      <td>1021</td>\n",
       "      <td>71</td>\n",
       "    </tr>\n",
       "    <tr>\n",
       "      <th>positive</th>\n",
       "      <td>321</td>\n",
       "      <td>463</td>\n",
       "    </tr>\n",
       "  </tbody>\n",
       "</table>\n",
       "</div>"
      ],
      "text/plain": [
       "          negative  positive\n",
       "negative      1021        71\n",
       "positive       321       463"
      ]
     },
     "execution_count": 48,
     "metadata": {},
     "output_type": "execute_result"
    }
   ],
   "source": [
    "# CountVectorizer uni and bi features\n",
    "rf = RandomForestClassifier(n_estimators = 199, n_jobs = -1, random_state = 0).fit(cv_uni_bi_train, target_train)\n",
    "rf_predict = rf.predict(cv_uni_bi_test)\n",
    "\n",
    "labels = ['Safe Tweet', 'Disaster Tweet']\n",
    "print(classification_report(target_test, rf_predict, target_names = labels))\n",
    "pd.DataFrame(confusion_matrix(target_test, rf_predict), index=labels, columns=labels)"
   ]
  },
  {
   "cell_type": "code",
   "execution_count": 49,
   "id": "2264d6ad",
   "metadata": {},
   "outputs": [
    {
     "name": "stdout",
     "output_type": "stream",
     "text": [
      "              precision    recall  f1-score   support\n",
      "\n",
      "           0       0.79      0.87      0.83      1092\n",
      "           1       0.80      0.68      0.74       784\n",
      "\n",
      "    accuracy                           0.79      1876\n",
      "   macro avg       0.79      0.78      0.78      1876\n",
      "weighted avg       0.79      0.79      0.79      1876\n",
      "\n"
     ]
    },
    {
     "data": {
      "text/html": [
       "<div>\n",
       "<style scoped>\n",
       "    .dataframe tbody tr th:only-of-type {\n",
       "        vertical-align: middle;\n",
       "    }\n",
       "\n",
       "    .dataframe tbody tr th {\n",
       "        vertical-align: top;\n",
       "    }\n",
       "\n",
       "    .dataframe thead th {\n",
       "        text-align: right;\n",
       "    }\n",
       "</style>\n",
       "<table border=\"1\" class=\"dataframe\">\n",
       "  <thead>\n",
       "    <tr style=\"text-align: right;\">\n",
       "      <th></th>\n",
       "      <th>negative</th>\n",
       "      <th>positive</th>\n",
       "    </tr>\n",
       "  </thead>\n",
       "  <tbody>\n",
       "    <tr>\n",
       "      <th>negative</th>\n",
       "      <td>954</td>\n",
       "      <td>138</td>\n",
       "    </tr>\n",
       "    <tr>\n",
       "      <th>positive</th>\n",
       "      <td>248</td>\n",
       "      <td>536</td>\n",
       "    </tr>\n",
       "  </tbody>\n",
       "</table>\n",
       "</div>"
      ],
      "text/plain": [
       "          negative  positive\n",
       "negative       954       138\n",
       "positive       248       536"
      ]
     },
     "execution_count": 49,
     "metadata": {},
     "output_type": "execute_result"
    }
   ],
   "source": [
    "# TfidVectorizer uni features\n",
    "rf = RandomForestClassifier(n_estimators = 199, n_jobs = -1, random_state = 0).fit(tfid_uni_train, target_train)\n",
    "rf_predict = rf.predict(tfid_uni_test)\n",
    "\n",
    "labels = ['Safe Tweet', 'Disaster Tweet']\n",
    "print(classification_report(target_test, rf_predict, target_names = labels))\n",
    "pd.DataFrame(confusion_matrix(target_test, rf_predict), index=labels, columns=labels)"
   ]
  },
  {
   "cell_type": "markdown",
   "id": "fba690d2",
   "metadata": {},
   "source": [
    "# Support Vector Machine  "
   ]
  },
  {
   "cell_type": "code",
   "execution_count": 9,
   "id": "b5a9b4a3",
   "metadata": {},
   "outputs": [
    {
     "name": "stdout",
     "output_type": "stream",
     "text": [
      "                precision    recall  f1-score   support\n",
      "\n",
      "    Safe Tweet       0.78      0.91      0.84      1092\n",
      "Disaster Tweet       0.83      0.64      0.73       784\n",
      "\n",
      "      accuracy                           0.80      1876\n",
      "     macro avg       0.81      0.78      0.78      1876\n",
      "  weighted avg       0.80      0.80      0.79      1876\n",
      "\n"
     ]
    },
    {
     "data": {
      "text/html": [
       "<div>\n",
       "<style scoped>\n",
       "    .dataframe tbody tr th:only-of-type {\n",
       "        vertical-align: middle;\n",
       "    }\n",
       "\n",
       "    .dataframe tbody tr th {\n",
       "        vertical-align: top;\n",
       "    }\n",
       "\n",
       "    .dataframe thead th {\n",
       "        text-align: right;\n",
       "    }\n",
       "</style>\n",
       "<table border=\"1\" class=\"dataframe\">\n",
       "  <thead>\n",
       "    <tr style=\"text-align: right;\">\n",
       "      <th></th>\n",
       "      <th>Safe Tweet</th>\n",
       "      <th>Disaster Tweet</th>\n",
       "    </tr>\n",
       "  </thead>\n",
       "  <tbody>\n",
       "    <tr>\n",
       "      <th>Safe Tweet</th>\n",
       "      <td>991</td>\n",
       "      <td>101</td>\n",
       "    </tr>\n",
       "    <tr>\n",
       "      <th>Disaster Tweet</th>\n",
       "      <td>280</td>\n",
       "      <td>504</td>\n",
       "    </tr>\n",
       "  </tbody>\n",
       "</table>\n",
       "</div>"
      ],
      "text/plain": [
       "                Safe Tweet  Disaster Tweet\n",
       "Safe Tweet             991             101\n",
       "Disaster Tweet         280             504"
      ]
     },
     "execution_count": 9,
     "metadata": {},
     "output_type": "execute_result"
    }
   ],
   "source": [
    "sv = SVC(random_state = 0)\n",
    "params = {'C':np.logspace(-2,2,50)}\n",
    "\n",
    "svm = GridSearchCV(sv, params, cv = 5)\n",
    "svm.fit(cv_uni_train, target_train)\n",
    "\n",
    "svm_pred = svm.predict(cv_uni_test)\n",
    "\n",
    "labels = ['Safe Tweet', 'Disaster Tweet']\n",
    "print(classification_report(target_test, svm_pred, target_names = labels))\n",
    "pd.DataFrame(confusion_matrix(target_test, svm_pred), index=labels, columns=labels)"
   ]
  },
  {
   "cell_type": "code",
   "execution_count": 11,
   "id": "45820c0b",
   "metadata": {},
   "outputs": [
    {
     "data": {
      "text/plain": [
       "{'C': 1.9306977288832496}"
      ]
     },
     "execution_count": 11,
     "metadata": {},
     "output_type": "execute_result"
    }
   ],
   "source": [
    "svm.best_params_"
   ]
  }
 ],
 "metadata": {
  "kernelspec": {
   "display_name": "Python 3 (ipykernel)",
   "language": "python",
   "name": "python3"
  },
  "language_info": {
   "codemirror_mode": {
    "name": "ipython",
    "version": 3
   },
   "file_extension": ".py",
   "mimetype": "text/x-python",
   "name": "python",
   "nbconvert_exporter": "python",
   "pygments_lexer": "ipython3",
   "version": "3.9.7"
  }
 },
 "nbformat": 4,
 "nbformat_minor": 5
}
